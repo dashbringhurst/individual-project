{
 "cells": [
  {
   "cell_type": "markdown",
   "id": "735c6d0b",
   "metadata": {},
   "source": [
    "## Data Dictionary\n",
    "\n",
    "1\tID\tThis is a unique identifier of the accident record.\n",
    "\n",
    "2\tSeverity\tShows the severity of the accident, a number between 1 and 4, where 1 indicates the least impact on traffic (i.e., short delay as a result of the accident) and 4 indicates a significant impact on traffic (i.e., long delay).\n",
    "\n",
    "3\tStart_Time\tShows start time of the accident in local time zone.\n",
    "\n",
    "4\tEnd_Time\tShows end time of the accident in local time zone. End time here refers to when the impact of accident on traffic flow was dismissed.\n",
    "\n",
    "5\tStart_Lat\tShows latitude in GPS coordinate of the start point.\n",
    "\n",
    "6\tStart_Lng\tShows longitude in GPS coordinate of the start point.\n",
    "\n",
    "7\tEnd_Lat\tShows latitude in GPS coordinate of the end point.\n",
    "\n",
    "8\tEnd_Lng\tShows longitude in GPS coordinate of the end point.\n",
    "\n",
    "9\tDistance(mi)\tThe length of the road extent affected by the accident.\n",
    "\n",
    "10\tDescription\tShows natural language description of the accident.\n",
    "\n",
    "11\tNumber\tShows the street number in address field.\n",
    "\n",
    "12\tStreet\tShows the street name in address field.\n",
    "\n",
    "13\tSide\tShows the relative side of the street (Right/Left) in address field.\n",
    "\n",
    "14\tCity\tShows the city in address field.\n",
    "\n",
    "15\tCounty\tShows the county in address field.\n",
    "\n",
    "16\tState\tShows the state in address field.\n",
    "\n",
    "17\tZipcode\tShows the zipcode in address field.\n",
    "\n",
    "18\tCountry\tShows the country in address field.\n",
    "\n",
    "19\tTimezone\tShows timezone based on the location of the accident (eastern, central, etc.).\n",
    "\n",
    "20\tAirport_Code\tDenotes an airport-based weather station which is the closest one to location of the accident.\n",
    "\n",
    "21\tWeather_Timestamp\tShows the time-stamp of weather observation record (in local time).\n",
    "\n",
    "22\tTemperature(F)\tShows the temperature (in Fahrenheit).\n",
    "\n",
    "23\tWind_Chill(F)\tShows the wind chill (in Fahrenheit).\n",
    "\n",
    "24\tHumidity(%)\tShows the humidity (in percentage).\n",
    "\n",
    "25\tPressure(in)\tShows the air pressure (in inches).\n",
    "\n",
    "26\tVisibility(mi)\tShows visibility (in miles).\n",
    "\n",
    "27\tWind_Direction\tShows wind direction.\n",
    "\n",
    "28\tWind_Speed(mph)\tShows wind speed (in miles per hour).\n",
    "\n",
    "29\tPrecipitation(in)\tShows precipitation amount in inches, if there is any.\n",
    "\n",
    "30\tWeather_Condition\tShows the weather condition (rain, snow, thunderstorm, fog, etc.)\n",
    "\n",
    "31\tAmenity\tA POI annotation which indicates presence of amenity in a nearby location.\n",
    "\n",
    "32\tBump\tA POI annotation which indicates presence of speed bump or hump in a nearby location.\n",
    "\n",
    "33\tCrossing\tA POI annotation which indicates presence of crossing in a nearby location.\n",
    "\n",
    "34\tGive_Way\tA POI annotation which indicates presence of give_way in a nearby location.\n",
    "\n",
    "35\tJunction\tA POI annotation which indicates presence of junction in a nearby location.\n",
    "\n",
    "36\tNo_Exit\tA POI annotation which indicates presence of no_exit in a nearby location.\n",
    "\n",
    "37\tRailway\tA POI annotation which indicates presence of railway in a nearby location.\n",
    "\n",
    "38\tRoundabout\tA POI annotation which indicates presence of roundabout in a nearby location.\n",
    "\n",
    "39\tStation\tA POI annotation which indicates presence of station in a nearby location.\n",
    "\n",
    "40\tStop\tA POI annotation which indicates presence of stop in a nearby location.\n",
    "\n",
    "41\tTraffic_Calming\tA POI annotation which indicates presence of traffic_calming in a nearby location.\n",
    "\n",
    "42\tTraffic_Signal\tA POI annotation which indicates presence of traffic_signal in a nearby loction.\n",
    "\n",
    "43\tTurning_Loop\tA POI annotation which indicates presence of turning_loop in a nearby location.\n",
    "\n",
    "44\tSunrise_Sunset\tShows the period of day (i.e. day or night) based on sunrise/sunset.\n",
    "\n",
    "45\tCivil_Twilight\tShows the period of day (i.e. day or night) based on civil twilight.\n",
    "\n",
    "46\tNautical_Twilight\tShows the period of day (i.e. day or night) based on nautical twilight.\n",
    "\n",
    "47\tAstronomical_Twilight\tShows the period of day (i.e. day or night) based on astronomical twilight."
   ]
  },
  {
   "cell_type": "code",
   "execution_count": 1,
   "id": "88fb24c9",
   "metadata": {},
   "outputs": [],
   "source": [
    "import pandas as pd\n",
    "import numpy as np\n",
    "import matplotlib.pyplot as plt\n",
    "import seaborn as sns"
   ]
  },
  {
   "cell_type": "code",
   "execution_count": 2,
   "id": "1628e9fe",
   "metadata": {},
   "outputs": [],
   "source": [
    "df = pd.read_csv('accidents.csv')"
   ]
  },
  {
   "cell_type": "code",
   "execution_count": 3,
   "id": "dbe5304a",
   "metadata": {},
   "outputs": [
    {
     "data": {
      "text/html": [
       "<div>\n",
       "<style scoped>\n",
       "    .dataframe tbody tr th:only-of-type {\n",
       "        vertical-align: middle;\n",
       "    }\n",
       "\n",
       "    .dataframe tbody tr th {\n",
       "        vertical-align: top;\n",
       "    }\n",
       "\n",
       "    .dataframe thead th {\n",
       "        text-align: right;\n",
       "    }\n",
       "</style>\n",
       "<table border=\"1\" class=\"dataframe\">\n",
       "  <thead>\n",
       "    <tr style=\"text-align: right;\">\n",
       "      <th></th>\n",
       "      <th>ID</th>\n",
       "      <th>Severity</th>\n",
       "      <th>Start_Time</th>\n",
       "      <th>End_Time</th>\n",
       "      <th>Start_Lat</th>\n",
       "      <th>Start_Lng</th>\n",
       "      <th>End_Lat</th>\n",
       "      <th>End_Lng</th>\n",
       "      <th>Distance(mi)</th>\n",
       "      <th>Description</th>\n",
       "      <th>...</th>\n",
       "      <th>Roundabout</th>\n",
       "      <th>Station</th>\n",
       "      <th>Stop</th>\n",
       "      <th>Traffic_Calming</th>\n",
       "      <th>Traffic_Signal</th>\n",
       "      <th>Turning_Loop</th>\n",
       "      <th>Sunrise_Sunset</th>\n",
       "      <th>Civil_Twilight</th>\n",
       "      <th>Nautical_Twilight</th>\n",
       "      <th>Astronomical_Twilight</th>\n",
       "    </tr>\n",
       "  </thead>\n",
       "  <tbody>\n",
       "    <tr>\n",
       "      <th>0</th>\n",
       "      <td>A-1</td>\n",
       "      <td>3</td>\n",
       "      <td>2016-02-08 00:37:08</td>\n",
       "      <td>2016-02-08 06:37:08</td>\n",
       "      <td>40.108910</td>\n",
       "      <td>-83.092860</td>\n",
       "      <td>40.112060</td>\n",
       "      <td>-83.031870</td>\n",
       "      <td>3.230</td>\n",
       "      <td>Between Sawmill Rd/Exit 20 and OH-315/Olentang...</td>\n",
       "      <td>...</td>\n",
       "      <td>False</td>\n",
       "      <td>False</td>\n",
       "      <td>False</td>\n",
       "      <td>False</td>\n",
       "      <td>False</td>\n",
       "      <td>False</td>\n",
       "      <td>Night</td>\n",
       "      <td>Night</td>\n",
       "      <td>Night</td>\n",
       "      <td>Night</td>\n",
       "    </tr>\n",
       "    <tr>\n",
       "      <th>1</th>\n",
       "      <td>A-2</td>\n",
       "      <td>2</td>\n",
       "      <td>2016-02-08 05:56:20</td>\n",
       "      <td>2016-02-08 11:56:20</td>\n",
       "      <td>39.865420</td>\n",
       "      <td>-84.062800</td>\n",
       "      <td>39.865010</td>\n",
       "      <td>-84.048730</td>\n",
       "      <td>0.747</td>\n",
       "      <td>At OH-4/OH-235/Exit 41 - Accident.</td>\n",
       "      <td>...</td>\n",
       "      <td>False</td>\n",
       "      <td>False</td>\n",
       "      <td>False</td>\n",
       "      <td>False</td>\n",
       "      <td>False</td>\n",
       "      <td>False</td>\n",
       "      <td>Night</td>\n",
       "      <td>Night</td>\n",
       "      <td>Night</td>\n",
       "      <td>Night</td>\n",
       "    </tr>\n",
       "    <tr>\n",
       "      <th>2</th>\n",
       "      <td>A-3</td>\n",
       "      <td>2</td>\n",
       "      <td>2016-02-08 06:15:39</td>\n",
       "      <td>2016-02-08 12:15:39</td>\n",
       "      <td>39.102660</td>\n",
       "      <td>-84.524680</td>\n",
       "      <td>39.102090</td>\n",
       "      <td>-84.523960</td>\n",
       "      <td>0.055</td>\n",
       "      <td>At I-71/US-50/Exit 1 - Accident.</td>\n",
       "      <td>...</td>\n",
       "      <td>False</td>\n",
       "      <td>False</td>\n",
       "      <td>False</td>\n",
       "      <td>False</td>\n",
       "      <td>False</td>\n",
       "      <td>False</td>\n",
       "      <td>Night</td>\n",
       "      <td>Night</td>\n",
       "      <td>Night</td>\n",
       "      <td>Day</td>\n",
       "    </tr>\n",
       "    <tr>\n",
       "      <th>3</th>\n",
       "      <td>A-4</td>\n",
       "      <td>2</td>\n",
       "      <td>2016-02-08 06:51:45</td>\n",
       "      <td>2016-02-08 12:51:45</td>\n",
       "      <td>41.062130</td>\n",
       "      <td>-81.537840</td>\n",
       "      <td>41.062170</td>\n",
       "      <td>-81.535470</td>\n",
       "      <td>0.123</td>\n",
       "      <td>At Dart Ave/Exit 21 - Accident.</td>\n",
       "      <td>...</td>\n",
       "      <td>False</td>\n",
       "      <td>False</td>\n",
       "      <td>False</td>\n",
       "      <td>False</td>\n",
       "      <td>False</td>\n",
       "      <td>False</td>\n",
       "      <td>Night</td>\n",
       "      <td>Night</td>\n",
       "      <td>Day</td>\n",
       "      <td>Day</td>\n",
       "    </tr>\n",
       "    <tr>\n",
       "      <th>4</th>\n",
       "      <td>A-5</td>\n",
       "      <td>3</td>\n",
       "      <td>2016-02-08 07:53:43</td>\n",
       "      <td>2016-02-08 13:53:43</td>\n",
       "      <td>39.172393</td>\n",
       "      <td>-84.492792</td>\n",
       "      <td>39.170476</td>\n",
       "      <td>-84.501798</td>\n",
       "      <td>0.500</td>\n",
       "      <td>At Mitchell Ave/Exit 6 - Accident.</td>\n",
       "      <td>...</td>\n",
       "      <td>False</td>\n",
       "      <td>False</td>\n",
       "      <td>False</td>\n",
       "      <td>False</td>\n",
       "      <td>False</td>\n",
       "      <td>False</td>\n",
       "      <td>Day</td>\n",
       "      <td>Day</td>\n",
       "      <td>Day</td>\n",
       "      <td>Day</td>\n",
       "    </tr>\n",
       "  </tbody>\n",
       "</table>\n",
       "<p>5 rows × 47 columns</p>\n",
       "</div>"
      ],
      "text/plain": [
       "    ID  Severity           Start_Time             End_Time  Start_Lat  \\\n",
       "0  A-1         3  2016-02-08 00:37:08  2016-02-08 06:37:08  40.108910   \n",
       "1  A-2         2  2016-02-08 05:56:20  2016-02-08 11:56:20  39.865420   \n",
       "2  A-3         2  2016-02-08 06:15:39  2016-02-08 12:15:39  39.102660   \n",
       "3  A-4         2  2016-02-08 06:51:45  2016-02-08 12:51:45  41.062130   \n",
       "4  A-5         3  2016-02-08 07:53:43  2016-02-08 13:53:43  39.172393   \n",
       "\n",
       "   Start_Lng    End_Lat    End_Lng  Distance(mi)  \\\n",
       "0 -83.092860  40.112060 -83.031870         3.230   \n",
       "1 -84.062800  39.865010 -84.048730         0.747   \n",
       "2 -84.524680  39.102090 -84.523960         0.055   \n",
       "3 -81.537840  41.062170 -81.535470         0.123   \n",
       "4 -84.492792  39.170476 -84.501798         0.500   \n",
       "\n",
       "                                         Description  ...  Roundabout Station  \\\n",
       "0  Between Sawmill Rd/Exit 20 and OH-315/Olentang...  ...       False   False   \n",
       "1                 At OH-4/OH-235/Exit 41 - Accident.  ...       False   False   \n",
       "2                   At I-71/US-50/Exit 1 - Accident.  ...       False   False   \n",
       "3                    At Dart Ave/Exit 21 - Accident.  ...       False   False   \n",
       "4                 At Mitchell Ave/Exit 6 - Accident.  ...       False   False   \n",
       "\n",
       "    Stop Traffic_Calming Traffic_Signal Turning_Loop Sunrise_Sunset  \\\n",
       "0  False           False          False        False          Night   \n",
       "1  False           False          False        False          Night   \n",
       "2  False           False          False        False          Night   \n",
       "3  False           False          False        False          Night   \n",
       "4  False           False          False        False            Day   \n",
       "\n",
       "  Civil_Twilight Nautical_Twilight Astronomical_Twilight  \n",
       "0          Night             Night                 Night  \n",
       "1          Night             Night                 Night  \n",
       "2          Night             Night                   Day  \n",
       "3          Night               Day                   Day  \n",
       "4            Day               Day                   Day  \n",
       "\n",
       "[5 rows x 47 columns]"
      ]
     },
     "execution_count": 3,
     "metadata": {},
     "output_type": "execute_result"
    }
   ],
   "source": [
    "df.head()"
   ]
  },
  {
   "cell_type": "code",
   "execution_count": 6,
   "id": "ca5cda67",
   "metadata": {},
   "outputs": [
    {
     "name": "stdout",
     "output_type": "stream",
     "text": [
      "<class 'pandas.core.frame.DataFrame'>\n",
      "RangeIndex: 2845342 entries, 0 to 2845341\n",
      "Data columns (total 47 columns):\n",
      " #   Column                 Non-Null Count    Dtype  \n",
      "---  ------                 --------------    -----  \n",
      " 0   ID                     2845342 non-null  object \n",
      " 1   Severity               2845342 non-null  int64  \n",
      " 2   Start_Time             2845342 non-null  object \n",
      " 3   End_Time               2845342 non-null  object \n",
      " 4   Start_Lat              2845342 non-null  float64\n",
      " 5   Start_Lng              2845342 non-null  float64\n",
      " 6   End_Lat                2845342 non-null  float64\n",
      " 7   End_Lng                2845342 non-null  float64\n",
      " 8   Distance(mi)           2845342 non-null  float64\n",
      " 9   Description            2845342 non-null  object \n",
      " 10  Number                 1101431 non-null  float64\n",
      " 11  Street                 2845340 non-null  object \n",
      " 12  Side                   2845342 non-null  object \n",
      " 13  City                   2845205 non-null  object \n",
      " 14  County                 2845342 non-null  object \n",
      " 15  State                  2845342 non-null  object \n",
      " 16  Zipcode                2844023 non-null  object \n",
      " 17  Country                2845342 non-null  object \n",
      " 18  Timezone               2841683 non-null  object \n",
      " 19  Airport_Code           2835793 non-null  object \n",
      " 20  Weather_Timestamp      2794606 non-null  object \n",
      " 21  Temperature(F)         2776068 non-null  float64\n",
      " 22  Wind_Chill(F)          2375699 non-null  float64\n",
      " 23  Humidity(%)            2772250 non-null  float64\n",
      " 24  Pressure(in)           2786142 non-null  float64\n",
      " 25  Visibility(mi)         2774796 non-null  float64\n",
      " 26  Wind_Direction         2771567 non-null  object \n",
      " 27  Wind_Speed(mph)        2687398 non-null  float64\n",
      " 28  Precipitation(in)      2295884 non-null  float64\n",
      " 29  Weather_Condition      2774706 non-null  object \n",
      " 30  Amenity                2845342 non-null  bool   \n",
      " 31  Bump                   2845342 non-null  bool   \n",
      " 32  Crossing               2845342 non-null  bool   \n",
      " 33  Give_Way               2845342 non-null  bool   \n",
      " 34  Junction               2845342 non-null  bool   \n",
      " 35  No_Exit                2845342 non-null  bool   \n",
      " 36  Railway                2845342 non-null  bool   \n",
      " 37  Roundabout             2845342 non-null  bool   \n",
      " 38  Station                2845342 non-null  bool   \n",
      " 39  Stop                   2845342 non-null  bool   \n",
      " 40  Traffic_Calming        2845342 non-null  bool   \n",
      " 41  Traffic_Signal         2845342 non-null  bool   \n",
      " 42  Turning_Loop           2845342 non-null  bool   \n",
      " 43  Sunrise_Sunset         2842475 non-null  object \n",
      " 44  Civil_Twilight         2842475 non-null  object \n",
      " 45  Nautical_Twilight      2842475 non-null  object \n",
      " 46  Astronomical_Twilight  2842475 non-null  object \n",
      "dtypes: bool(13), float64(13), int64(1), object(20)\n",
      "memory usage: 773.4+ MB\n"
     ]
    }
   ],
   "source": [
    "df.info(show_counts=True)"
   ]
  },
  {
   "cell_type": "code",
   "execution_count": 7,
   "id": "b3fb6e44",
   "metadata": {},
   "outputs": [
    {
     "data": {
      "text/html": [
       "<div>\n",
       "<style scoped>\n",
       "    .dataframe tbody tr th:only-of-type {\n",
       "        vertical-align: middle;\n",
       "    }\n",
       "\n",
       "    .dataframe tbody tr th {\n",
       "        vertical-align: top;\n",
       "    }\n",
       "\n",
       "    .dataframe thead th {\n",
       "        text-align: right;\n",
       "    }\n",
       "</style>\n",
       "<table border=\"1\" class=\"dataframe\">\n",
       "  <thead>\n",
       "    <tr style=\"text-align: right;\">\n",
       "      <th></th>\n",
       "      <th>Severity</th>\n",
       "      <th>Start_Lat</th>\n",
       "      <th>Start_Lng</th>\n",
       "      <th>End_Lat</th>\n",
       "      <th>End_Lng</th>\n",
       "      <th>Distance(mi)</th>\n",
       "      <th>Number</th>\n",
       "      <th>Temperature(F)</th>\n",
       "      <th>Wind_Chill(F)</th>\n",
       "      <th>Humidity(%)</th>\n",
       "      <th>Pressure(in)</th>\n",
       "      <th>Visibility(mi)</th>\n",
       "      <th>Wind_Speed(mph)</th>\n",
       "      <th>Precipitation(in)</th>\n",
       "    </tr>\n",
       "  </thead>\n",
       "  <tbody>\n",
       "    <tr>\n",
       "      <th>count</th>\n",
       "      <td>2.845342e+06</td>\n",
       "      <td>2.845342e+06</td>\n",
       "      <td>2.845342e+06</td>\n",
       "      <td>2.845342e+06</td>\n",
       "      <td>2.845342e+06</td>\n",
       "      <td>2.845342e+06</td>\n",
       "      <td>1.101431e+06</td>\n",
       "      <td>2.776068e+06</td>\n",
       "      <td>2.375699e+06</td>\n",
       "      <td>2.772250e+06</td>\n",
       "      <td>2.786142e+06</td>\n",
       "      <td>2.774796e+06</td>\n",
       "      <td>2.687398e+06</td>\n",
       "      <td>2.295884e+06</td>\n",
       "    </tr>\n",
       "    <tr>\n",
       "      <th>mean</th>\n",
       "      <td>2.137572e+00</td>\n",
       "      <td>3.624520e+01</td>\n",
       "      <td>-9.711463e+01</td>\n",
       "      <td>3.624532e+01</td>\n",
       "      <td>-9.711439e+01</td>\n",
       "      <td>7.026779e-01</td>\n",
       "      <td>8.089408e+03</td>\n",
       "      <td>6.179356e+01</td>\n",
       "      <td>5.965823e+01</td>\n",
       "      <td>6.436545e+01</td>\n",
       "      <td>2.947234e+01</td>\n",
       "      <td>9.099391e+00</td>\n",
       "      <td>7.395044e+00</td>\n",
       "      <td>7.016940e-03</td>\n",
       "    </tr>\n",
       "    <tr>\n",
       "      <th>std</th>\n",
       "      <td>4.787216e-01</td>\n",
       "      <td>5.363797e+00</td>\n",
       "      <td>1.831782e+01</td>\n",
       "      <td>5.363873e+00</td>\n",
       "      <td>1.831763e+01</td>\n",
       "      <td>1.560361e+00</td>\n",
       "      <td>1.836009e+04</td>\n",
       "      <td>1.862263e+01</td>\n",
       "      <td>2.116097e+01</td>\n",
       "      <td>2.287457e+01</td>\n",
       "      <td>1.045286e+00</td>\n",
       "      <td>2.717546e+00</td>\n",
       "      <td>5.527454e+00</td>\n",
       "      <td>9.348831e-02</td>\n",
       "    </tr>\n",
       "    <tr>\n",
       "      <th>min</th>\n",
       "      <td>1.000000e+00</td>\n",
       "      <td>2.456603e+01</td>\n",
       "      <td>-1.245481e+02</td>\n",
       "      <td>2.456601e+01</td>\n",
       "      <td>-1.245457e+02</td>\n",
       "      <td>0.000000e+00</td>\n",
       "      <td>0.000000e+00</td>\n",
       "      <td>-8.900000e+01</td>\n",
       "      <td>-8.900000e+01</td>\n",
       "      <td>1.000000e+00</td>\n",
       "      <td>0.000000e+00</td>\n",
       "      <td>0.000000e+00</td>\n",
       "      <td>0.000000e+00</td>\n",
       "      <td>0.000000e+00</td>\n",
       "    </tr>\n",
       "    <tr>\n",
       "      <th>25%</th>\n",
       "      <td>2.000000e+00</td>\n",
       "      <td>3.344517e+01</td>\n",
       "      <td>-1.180331e+02</td>\n",
       "      <td>3.344628e+01</td>\n",
       "      <td>-1.180333e+02</td>\n",
       "      <td>5.200000e-02</td>\n",
       "      <td>1.270000e+03</td>\n",
       "      <td>5.000000e+01</td>\n",
       "      <td>4.600000e+01</td>\n",
       "      <td>4.800000e+01</td>\n",
       "      <td>2.931000e+01</td>\n",
       "      <td>1.000000e+01</td>\n",
       "      <td>3.500000e+00</td>\n",
       "      <td>0.000000e+00</td>\n",
       "    </tr>\n",
       "    <tr>\n",
       "      <th>50%</th>\n",
       "      <td>2.000000e+00</td>\n",
       "      <td>3.609861e+01</td>\n",
       "      <td>-9.241808e+01</td>\n",
       "      <td>3.609799e+01</td>\n",
       "      <td>-9.241772e+01</td>\n",
       "      <td>2.440000e-01</td>\n",
       "      <td>4.007000e+03</td>\n",
       "      <td>6.400000e+01</td>\n",
       "      <td>6.300000e+01</td>\n",
       "      <td>6.700000e+01</td>\n",
       "      <td>2.982000e+01</td>\n",
       "      <td>1.000000e+01</td>\n",
       "      <td>7.000000e+00</td>\n",
       "      <td>0.000000e+00</td>\n",
       "    </tr>\n",
       "    <tr>\n",
       "      <th>75%</th>\n",
       "      <td>2.000000e+00</td>\n",
       "      <td>4.016024e+01</td>\n",
       "      <td>-8.037243e+01</td>\n",
       "      <td>4.016105e+01</td>\n",
       "      <td>-8.037338e+01</td>\n",
       "      <td>7.640000e-01</td>\n",
       "      <td>9.567000e+03</td>\n",
       "      <td>7.600000e+01</td>\n",
       "      <td>7.600000e+01</td>\n",
       "      <td>8.300000e+01</td>\n",
       "      <td>3.001000e+01</td>\n",
       "      <td>1.000000e+01</td>\n",
       "      <td>1.000000e+01</td>\n",
       "      <td>0.000000e+00</td>\n",
       "    </tr>\n",
       "    <tr>\n",
       "      <th>max</th>\n",
       "      <td>4.000000e+00</td>\n",
       "      <td>4.900058e+01</td>\n",
       "      <td>-6.711317e+01</td>\n",
       "      <td>4.907500e+01</td>\n",
       "      <td>-6.710924e+01</td>\n",
       "      <td>1.551860e+02</td>\n",
       "      <td>9.999997e+06</td>\n",
       "      <td>1.960000e+02</td>\n",
       "      <td>1.960000e+02</td>\n",
       "      <td>1.000000e+02</td>\n",
       "      <td>5.890000e+01</td>\n",
       "      <td>1.400000e+02</td>\n",
       "      <td>1.087000e+03</td>\n",
       "      <td>2.400000e+01</td>\n",
       "    </tr>\n",
       "  </tbody>\n",
       "</table>\n",
       "</div>"
      ],
      "text/plain": [
       "           Severity     Start_Lat     Start_Lng       End_Lat       End_Lng  \\\n",
       "count  2.845342e+06  2.845342e+06  2.845342e+06  2.845342e+06  2.845342e+06   \n",
       "mean   2.137572e+00  3.624520e+01 -9.711463e+01  3.624532e+01 -9.711439e+01   \n",
       "std    4.787216e-01  5.363797e+00  1.831782e+01  5.363873e+00  1.831763e+01   \n",
       "min    1.000000e+00  2.456603e+01 -1.245481e+02  2.456601e+01 -1.245457e+02   \n",
       "25%    2.000000e+00  3.344517e+01 -1.180331e+02  3.344628e+01 -1.180333e+02   \n",
       "50%    2.000000e+00  3.609861e+01 -9.241808e+01  3.609799e+01 -9.241772e+01   \n",
       "75%    2.000000e+00  4.016024e+01 -8.037243e+01  4.016105e+01 -8.037338e+01   \n",
       "max    4.000000e+00  4.900058e+01 -6.711317e+01  4.907500e+01 -6.710924e+01   \n",
       "\n",
       "       Distance(mi)        Number  Temperature(F)  Wind_Chill(F)  \\\n",
       "count  2.845342e+06  1.101431e+06    2.776068e+06   2.375699e+06   \n",
       "mean   7.026779e-01  8.089408e+03    6.179356e+01   5.965823e+01   \n",
       "std    1.560361e+00  1.836009e+04    1.862263e+01   2.116097e+01   \n",
       "min    0.000000e+00  0.000000e+00   -8.900000e+01  -8.900000e+01   \n",
       "25%    5.200000e-02  1.270000e+03    5.000000e+01   4.600000e+01   \n",
       "50%    2.440000e-01  4.007000e+03    6.400000e+01   6.300000e+01   \n",
       "75%    7.640000e-01  9.567000e+03    7.600000e+01   7.600000e+01   \n",
       "max    1.551860e+02  9.999997e+06    1.960000e+02   1.960000e+02   \n",
       "\n",
       "        Humidity(%)  Pressure(in)  Visibility(mi)  Wind_Speed(mph)  \\\n",
       "count  2.772250e+06  2.786142e+06    2.774796e+06     2.687398e+06   \n",
       "mean   6.436545e+01  2.947234e+01    9.099391e+00     7.395044e+00   \n",
       "std    2.287457e+01  1.045286e+00    2.717546e+00     5.527454e+00   \n",
       "min    1.000000e+00  0.000000e+00    0.000000e+00     0.000000e+00   \n",
       "25%    4.800000e+01  2.931000e+01    1.000000e+01     3.500000e+00   \n",
       "50%    6.700000e+01  2.982000e+01    1.000000e+01     7.000000e+00   \n",
       "75%    8.300000e+01  3.001000e+01    1.000000e+01     1.000000e+01   \n",
       "max    1.000000e+02  5.890000e+01    1.400000e+02     1.087000e+03   \n",
       "\n",
       "       Precipitation(in)  \n",
       "count       2.295884e+06  \n",
       "mean        7.016940e-03  \n",
       "std         9.348831e-02  \n",
       "min         0.000000e+00  \n",
       "25%         0.000000e+00  \n",
       "50%         0.000000e+00  \n",
       "75%         0.000000e+00  \n",
       "max         2.400000e+01  "
      ]
     },
     "execution_count": 7,
     "metadata": {},
     "output_type": "execute_result"
    }
   ],
   "source": [
    "df.describe()"
   ]
  },
  {
   "cell_type": "code",
   "execution_count": 8,
   "id": "9046ce91",
   "metadata": {},
   "outputs": [],
   "source": [
    "df.columns = df.columns.str.lower()"
   ]
  },
  {
   "cell_type": "code",
   "execution_count": 9,
   "id": "28f598d4",
   "metadata": {},
   "outputs": [
    {
     "data": {
      "text/html": [
       "<div>\n",
       "<style scoped>\n",
       "    .dataframe tbody tr th:only-of-type {\n",
       "        vertical-align: middle;\n",
       "    }\n",
       "\n",
       "    .dataframe tbody tr th {\n",
       "        vertical-align: top;\n",
       "    }\n",
       "\n",
       "    .dataframe thead th {\n",
       "        text-align: right;\n",
       "    }\n",
       "</style>\n",
       "<table border=\"1\" class=\"dataframe\">\n",
       "  <thead>\n",
       "    <tr style=\"text-align: right;\">\n",
       "      <th></th>\n",
       "      <th>id</th>\n",
       "      <th>severity</th>\n",
       "      <th>start_time</th>\n",
       "      <th>end_time</th>\n",
       "      <th>start_lat</th>\n",
       "      <th>start_lng</th>\n",
       "      <th>end_lat</th>\n",
       "      <th>end_lng</th>\n",
       "      <th>distance(mi)</th>\n",
       "      <th>description</th>\n",
       "      <th>...</th>\n",
       "      <th>roundabout</th>\n",
       "      <th>station</th>\n",
       "      <th>stop</th>\n",
       "      <th>traffic_calming</th>\n",
       "      <th>traffic_signal</th>\n",
       "      <th>turning_loop</th>\n",
       "      <th>sunrise_sunset</th>\n",
       "      <th>civil_twilight</th>\n",
       "      <th>nautical_twilight</th>\n",
       "      <th>astronomical_twilight</th>\n",
       "    </tr>\n",
       "  </thead>\n",
       "  <tbody>\n",
       "    <tr>\n",
       "      <th>0</th>\n",
       "      <td>A-1</td>\n",
       "      <td>3</td>\n",
       "      <td>2016-02-08 00:37:08</td>\n",
       "      <td>2016-02-08 06:37:08</td>\n",
       "      <td>40.108910</td>\n",
       "      <td>-83.092860</td>\n",
       "      <td>40.112060</td>\n",
       "      <td>-83.031870</td>\n",
       "      <td>3.230</td>\n",
       "      <td>Between Sawmill Rd/Exit 20 and OH-315/Olentang...</td>\n",
       "      <td>...</td>\n",
       "      <td>False</td>\n",
       "      <td>False</td>\n",
       "      <td>False</td>\n",
       "      <td>False</td>\n",
       "      <td>False</td>\n",
       "      <td>False</td>\n",
       "      <td>Night</td>\n",
       "      <td>Night</td>\n",
       "      <td>Night</td>\n",
       "      <td>Night</td>\n",
       "    </tr>\n",
       "    <tr>\n",
       "      <th>1</th>\n",
       "      <td>A-2</td>\n",
       "      <td>2</td>\n",
       "      <td>2016-02-08 05:56:20</td>\n",
       "      <td>2016-02-08 11:56:20</td>\n",
       "      <td>39.865420</td>\n",
       "      <td>-84.062800</td>\n",
       "      <td>39.865010</td>\n",
       "      <td>-84.048730</td>\n",
       "      <td>0.747</td>\n",
       "      <td>At OH-4/OH-235/Exit 41 - Accident.</td>\n",
       "      <td>...</td>\n",
       "      <td>False</td>\n",
       "      <td>False</td>\n",
       "      <td>False</td>\n",
       "      <td>False</td>\n",
       "      <td>False</td>\n",
       "      <td>False</td>\n",
       "      <td>Night</td>\n",
       "      <td>Night</td>\n",
       "      <td>Night</td>\n",
       "      <td>Night</td>\n",
       "    </tr>\n",
       "    <tr>\n",
       "      <th>2</th>\n",
       "      <td>A-3</td>\n",
       "      <td>2</td>\n",
       "      <td>2016-02-08 06:15:39</td>\n",
       "      <td>2016-02-08 12:15:39</td>\n",
       "      <td>39.102660</td>\n",
       "      <td>-84.524680</td>\n",
       "      <td>39.102090</td>\n",
       "      <td>-84.523960</td>\n",
       "      <td>0.055</td>\n",
       "      <td>At I-71/US-50/Exit 1 - Accident.</td>\n",
       "      <td>...</td>\n",
       "      <td>False</td>\n",
       "      <td>False</td>\n",
       "      <td>False</td>\n",
       "      <td>False</td>\n",
       "      <td>False</td>\n",
       "      <td>False</td>\n",
       "      <td>Night</td>\n",
       "      <td>Night</td>\n",
       "      <td>Night</td>\n",
       "      <td>Day</td>\n",
       "    </tr>\n",
       "    <tr>\n",
       "      <th>3</th>\n",
       "      <td>A-4</td>\n",
       "      <td>2</td>\n",
       "      <td>2016-02-08 06:51:45</td>\n",
       "      <td>2016-02-08 12:51:45</td>\n",
       "      <td>41.062130</td>\n",
       "      <td>-81.537840</td>\n",
       "      <td>41.062170</td>\n",
       "      <td>-81.535470</td>\n",
       "      <td>0.123</td>\n",
       "      <td>At Dart Ave/Exit 21 - Accident.</td>\n",
       "      <td>...</td>\n",
       "      <td>False</td>\n",
       "      <td>False</td>\n",
       "      <td>False</td>\n",
       "      <td>False</td>\n",
       "      <td>False</td>\n",
       "      <td>False</td>\n",
       "      <td>Night</td>\n",
       "      <td>Night</td>\n",
       "      <td>Day</td>\n",
       "      <td>Day</td>\n",
       "    </tr>\n",
       "    <tr>\n",
       "      <th>4</th>\n",
       "      <td>A-5</td>\n",
       "      <td>3</td>\n",
       "      <td>2016-02-08 07:53:43</td>\n",
       "      <td>2016-02-08 13:53:43</td>\n",
       "      <td>39.172393</td>\n",
       "      <td>-84.492792</td>\n",
       "      <td>39.170476</td>\n",
       "      <td>-84.501798</td>\n",
       "      <td>0.500</td>\n",
       "      <td>At Mitchell Ave/Exit 6 - Accident.</td>\n",
       "      <td>...</td>\n",
       "      <td>False</td>\n",
       "      <td>False</td>\n",
       "      <td>False</td>\n",
       "      <td>False</td>\n",
       "      <td>False</td>\n",
       "      <td>False</td>\n",
       "      <td>Day</td>\n",
       "      <td>Day</td>\n",
       "      <td>Day</td>\n",
       "      <td>Day</td>\n",
       "    </tr>\n",
       "  </tbody>\n",
       "</table>\n",
       "<p>5 rows × 47 columns</p>\n",
       "</div>"
      ],
      "text/plain": [
       "    id  severity           start_time             end_time  start_lat  \\\n",
       "0  A-1         3  2016-02-08 00:37:08  2016-02-08 06:37:08  40.108910   \n",
       "1  A-2         2  2016-02-08 05:56:20  2016-02-08 11:56:20  39.865420   \n",
       "2  A-3         2  2016-02-08 06:15:39  2016-02-08 12:15:39  39.102660   \n",
       "3  A-4         2  2016-02-08 06:51:45  2016-02-08 12:51:45  41.062130   \n",
       "4  A-5         3  2016-02-08 07:53:43  2016-02-08 13:53:43  39.172393   \n",
       "\n",
       "   start_lng    end_lat    end_lng  distance(mi)  \\\n",
       "0 -83.092860  40.112060 -83.031870         3.230   \n",
       "1 -84.062800  39.865010 -84.048730         0.747   \n",
       "2 -84.524680  39.102090 -84.523960         0.055   \n",
       "3 -81.537840  41.062170 -81.535470         0.123   \n",
       "4 -84.492792  39.170476 -84.501798         0.500   \n",
       "\n",
       "                                         description  ...  roundabout station  \\\n",
       "0  Between Sawmill Rd/Exit 20 and OH-315/Olentang...  ...       False   False   \n",
       "1                 At OH-4/OH-235/Exit 41 - Accident.  ...       False   False   \n",
       "2                   At I-71/US-50/Exit 1 - Accident.  ...       False   False   \n",
       "3                    At Dart Ave/Exit 21 - Accident.  ...       False   False   \n",
       "4                 At Mitchell Ave/Exit 6 - Accident.  ...       False   False   \n",
       "\n",
       "    stop traffic_calming traffic_signal turning_loop sunrise_sunset  \\\n",
       "0  False           False          False        False          Night   \n",
       "1  False           False          False        False          Night   \n",
       "2  False           False          False        False          Night   \n",
       "3  False           False          False        False          Night   \n",
       "4  False           False          False        False            Day   \n",
       "\n",
       "  civil_twilight nautical_twilight astronomical_twilight  \n",
       "0          Night             Night                 Night  \n",
       "1          Night             Night                 Night  \n",
       "2          Night             Night                   Day  \n",
       "3          Night               Day                   Day  \n",
       "4            Day               Day                   Day  \n",
       "\n",
       "[5 rows x 47 columns]"
      ]
     },
     "execution_count": 9,
     "metadata": {},
     "output_type": "execute_result"
    }
   ],
   "source": [
    "df.head()"
   ]
  },
  {
   "cell_type": "code",
   "execution_count": 10,
   "id": "be328508",
   "metadata": {},
   "outputs": [
    {
     "data": {
      "text/plain": [
       "46402"
      ]
     },
     "execution_count": 10,
     "metadata": {},
     "output_type": "execute_result"
    }
   ],
   "source": [
    "df.number.nunique()"
   ]
  },
  {
   "cell_type": "code",
   "execution_count": 14,
   "id": "0646098d",
   "metadata": {},
   "outputs": [],
   "source": [
    "df = df.drop(columns='number')"
   ]
  },
  {
   "cell_type": "code",
   "execution_count": 15,
   "id": "19d26d4b",
   "metadata": {},
   "outputs": [
    {
     "name": "stdout",
     "output_type": "stream",
     "text": [
      "<class 'pandas.core.frame.DataFrame'>\n",
      "RangeIndex: 2845342 entries, 0 to 2845341\n",
      "Data columns (total 46 columns):\n",
      " #   Column                 Non-Null Count    Dtype  \n",
      "---  ------                 --------------    -----  \n",
      " 0   id                     2845342 non-null  object \n",
      " 1   severity               2845342 non-null  int64  \n",
      " 2   start_time             2845342 non-null  object \n",
      " 3   end_time               2845342 non-null  object \n",
      " 4   start_lat              2845342 non-null  float64\n",
      " 5   start_lng              2845342 non-null  float64\n",
      " 6   end_lat                2845342 non-null  float64\n",
      " 7   end_lng                2845342 non-null  float64\n",
      " 8   distance(mi)           2845342 non-null  float64\n",
      " 9   description            2845342 non-null  object \n",
      " 10  street                 2845340 non-null  object \n",
      " 11  side                   2845342 non-null  object \n",
      " 12  city                   2845205 non-null  object \n",
      " 13  county                 2845342 non-null  object \n",
      " 14  state                  2845342 non-null  object \n",
      " 15  zipcode                2844023 non-null  object \n",
      " 16  country                2845342 non-null  object \n",
      " 17  timezone               2841683 non-null  object \n",
      " 18  airport_code           2835793 non-null  object \n",
      " 19  weather_timestamp      2794606 non-null  object \n",
      " 20  temperature(f)         2776068 non-null  float64\n",
      " 21  wind_chill(f)          2375699 non-null  float64\n",
      " 22  humidity(%)            2772250 non-null  float64\n",
      " 23  pressure(in)           2786142 non-null  float64\n",
      " 24  visibility(mi)         2774796 non-null  float64\n",
      " 25  wind_direction         2771567 non-null  object \n",
      " 26  wind_speed(mph)        2687398 non-null  float64\n",
      " 27  precipitation(in)      2295884 non-null  float64\n",
      " 28  weather_condition      2774706 non-null  object \n",
      " 29  amenity                2845342 non-null  bool   \n",
      " 30  bump                   2845342 non-null  bool   \n",
      " 31  crossing               2845342 non-null  bool   \n",
      " 32  give_way               2845342 non-null  bool   \n",
      " 33  junction               2845342 non-null  bool   \n",
      " 34  no_exit                2845342 non-null  bool   \n",
      " 35  railway                2845342 non-null  bool   \n",
      " 36  roundabout             2845342 non-null  bool   \n",
      " 37  station                2845342 non-null  bool   \n",
      " 38  stop                   2845342 non-null  bool   \n",
      " 39  traffic_calming        2845342 non-null  bool   \n",
      " 40  traffic_signal         2845342 non-null  bool   \n",
      " 41  turning_loop           2845342 non-null  bool   \n",
      " 42  sunrise_sunset         2842475 non-null  object \n",
      " 43  civil_twilight         2842475 non-null  object \n",
      " 44  nautical_twilight      2842475 non-null  object \n",
      " 45  astronomical_twilight  2842475 non-null  object \n",
      "dtypes: bool(13), float64(12), int64(1), object(20)\n",
      "memory usage: 751.6+ MB\n"
     ]
    }
   ],
   "source": [
    "df.info(show_counts=True)"
   ]
  },
  {
   "cell_type": "code",
   "execution_count": 16,
   "id": "b1b57abe",
   "metadata": {},
   "outputs": [
    {
     "data": {
      "text/plain": [
       "2    2532991\n",
       "3     155105\n",
       "4     131193\n",
       "1      26053\n",
       "Name: severity, dtype: int64"
      ]
     },
     "execution_count": 16,
     "metadata": {},
     "output_type": "execute_result"
    }
   ],
   "source": [
    "df.severity.value_counts()"
   ]
  },
  {
   "cell_type": "code",
   "execution_count": 17,
   "id": "b16ebe98",
   "metadata": {},
   "outputs": [],
   "source": [
    "df = df.dropna()"
   ]
  },
  {
   "cell_type": "code",
   "execution_count": 18,
   "id": "82571a0c",
   "metadata": {},
   "outputs": [
    {
     "name": "stdout",
     "output_type": "stream",
     "text": [
      "<class 'pandas.core.frame.DataFrame'>\n",
      "Int64Index: 2207325 entries, 0 to 2845341\n",
      "Data columns (total 46 columns):\n",
      " #   Column                 Non-Null Count    Dtype  \n",
      "---  ------                 --------------    -----  \n",
      " 0   id                     2207325 non-null  object \n",
      " 1   severity               2207325 non-null  int64  \n",
      " 2   start_time             2207325 non-null  object \n",
      " 3   end_time               2207325 non-null  object \n",
      " 4   start_lat              2207325 non-null  float64\n",
      " 5   start_lng              2207325 non-null  float64\n",
      " 6   end_lat                2207325 non-null  float64\n",
      " 7   end_lng                2207325 non-null  float64\n",
      " 8   distance(mi)           2207325 non-null  float64\n",
      " 9   description            2207325 non-null  object \n",
      " 10  street                 2207325 non-null  object \n",
      " 11  side                   2207325 non-null  object \n",
      " 12  city                   2207325 non-null  object \n",
      " 13  county                 2207325 non-null  object \n",
      " 14  state                  2207325 non-null  object \n",
      " 15  zipcode                2207325 non-null  object \n",
      " 16  country                2207325 non-null  object \n",
      " 17  timezone               2207325 non-null  object \n",
      " 18  airport_code           2207325 non-null  object \n",
      " 19  weather_timestamp      2207325 non-null  object \n",
      " 20  temperature(f)         2207325 non-null  float64\n",
      " 21  wind_chill(f)          2207325 non-null  float64\n",
      " 22  humidity(%)            2207325 non-null  float64\n",
      " 23  pressure(in)           2207325 non-null  float64\n",
      " 24  visibility(mi)         2207325 non-null  float64\n",
      " 25  wind_direction         2207325 non-null  object \n",
      " 26  wind_speed(mph)        2207325 non-null  float64\n",
      " 27  precipitation(in)      2207325 non-null  float64\n",
      " 28  weather_condition      2207325 non-null  object \n",
      " 29  amenity                2207325 non-null  bool   \n",
      " 30  bump                   2207325 non-null  bool   \n",
      " 31  crossing               2207325 non-null  bool   \n",
      " 32  give_way               2207325 non-null  bool   \n",
      " 33  junction               2207325 non-null  bool   \n",
      " 34  no_exit                2207325 non-null  bool   \n",
      " 35  railway                2207325 non-null  bool   \n",
      " 36  roundabout             2207325 non-null  bool   \n",
      " 37  station                2207325 non-null  bool   \n",
      " 38  stop                   2207325 non-null  bool   \n",
      " 39  traffic_calming        2207325 non-null  bool   \n",
      " 40  traffic_signal         2207325 non-null  bool   \n",
      " 41  turning_loop           2207325 non-null  bool   \n",
      " 42  sunrise_sunset         2207325 non-null  object \n",
      " 43  civil_twilight         2207325 non-null  object \n",
      " 44  nautical_twilight      2207325 non-null  object \n",
      " 45  astronomical_twilight  2207325 non-null  object \n",
      "dtypes: bool(13), float64(12), int64(1), object(20)\n",
      "memory usage: 599.9+ MB\n"
     ]
    }
   ],
   "source": [
    "df.info(show_counts=True)"
   ]
  },
  {
   "cell_type": "code",
   "execution_count": 19,
   "id": "b7d4bd1c",
   "metadata": {},
   "outputs": [
    {
     "data": {
      "text/plain": [
       "US    2207325\n",
       "Name: country, dtype: int64"
      ]
     },
     "execution_count": 19,
     "metadata": {},
     "output_type": "execute_result"
    }
   ],
   "source": [
    "df.country.value_counts()"
   ]
  },
  {
   "cell_type": "code",
   "execution_count": 20,
   "id": "3ea87b8c",
   "metadata": {},
   "outputs": [],
   "source": [
    "df = df.drop(columns='country')"
   ]
  },
  {
   "cell_type": "code",
   "execution_count": 21,
   "id": "27826db4",
   "metadata": {},
   "outputs": [
    {
     "data": {
      "text/plain": [
       "US/Eastern     980847\n",
       "US/Pacific     734790\n",
       "US/Central     374368\n",
       "US/Mountain    117320\n",
       "Name: timezone, dtype: int64"
      ]
     },
     "execution_count": 21,
     "metadata": {},
     "output_type": "execute_result"
    }
   ],
   "source": [
    "df.timezone.value_counts()"
   ]
  },
  {
   "cell_type": "code",
   "execution_count": 25,
   "id": "e50ffeeb",
   "metadata": {},
   "outputs": [],
   "source": [
    "df.weather_timestamp = pd.to_datetime(df.weather_timestamp)"
   ]
  },
  {
   "cell_type": "code",
   "execution_count": 26,
   "id": "c666af81",
   "metadata": {},
   "outputs": [
    {
     "data": {
      "text/plain": [
       "2207325"
      ]
     },
     "execution_count": 26,
     "metadata": {},
     "output_type": "execute_result"
    }
   ],
   "source": [
    "df.id.nunique()"
   ]
  },
  {
   "cell_type": "code",
   "execution_count": 30,
   "id": "46e210bd",
   "metadata": {},
   "outputs": [],
   "source": [
    "df.start_time = pd.to_datetime(df.start_time)"
   ]
  },
  {
   "cell_type": "code",
   "execution_count": 32,
   "id": "17fb570b",
   "metadata": {},
   "outputs": [],
   "source": [
    "df.end_time = pd.to_datetime(df.end_time)"
   ]
  },
  {
   "cell_type": "code",
   "execution_count": 33,
   "id": "3581cabb",
   "metadata": {},
   "outputs": [
    {
     "name": "stdout",
     "output_type": "stream",
     "text": [
      "<class 'pandas.core.frame.DataFrame'>\n",
      "Int64Index: 2207325 entries, 0 to 2845341\n",
      "Data columns (total 45 columns):\n",
      " #   Column                 Non-Null Count    Dtype         \n",
      "---  ------                 --------------    -----         \n",
      " 0   id                     2207325 non-null  object        \n",
      " 1   severity               2207325 non-null  int64         \n",
      " 2   start_time             2207325 non-null  datetime64[ns]\n",
      " 3   end_time               2207325 non-null  datetime64[ns]\n",
      " 4   start_lat              2207325 non-null  float64       \n",
      " 5   start_lng              2207325 non-null  float64       \n",
      " 6   end_lat                2207325 non-null  float64       \n",
      " 7   end_lng                2207325 non-null  float64       \n",
      " 8   distance(mi)           2207325 non-null  float64       \n",
      " 9   description            2207325 non-null  object        \n",
      " 10  street                 2207325 non-null  object        \n",
      " 11  side                   2207325 non-null  object        \n",
      " 12  city                   2207325 non-null  object        \n",
      " 13  county                 2207325 non-null  object        \n",
      " 14  state                  2207325 non-null  object        \n",
      " 15  zipcode                2207325 non-null  object        \n",
      " 16  timezone               2207325 non-null  object        \n",
      " 17  airport_code           2207325 non-null  object        \n",
      " 18  weather_timestamp      2207325 non-null  datetime64[ns]\n",
      " 19  temperature(f)         2207325 non-null  float64       \n",
      " 20  wind_chill(f)          2207325 non-null  float64       \n",
      " 21  humidity(%)            2207325 non-null  float64       \n",
      " 22  pressure(in)           2207325 non-null  float64       \n",
      " 23  visibility(mi)         2207325 non-null  float64       \n",
      " 24  wind_direction         2207325 non-null  object        \n",
      " 25  wind_speed(mph)        2207325 non-null  float64       \n",
      " 26  precipitation(in)      2207325 non-null  float64       \n",
      " 27  weather_condition      2207325 non-null  object        \n",
      " 28  amenity                2207325 non-null  bool          \n",
      " 29  bump                   2207325 non-null  bool          \n",
      " 30  crossing               2207325 non-null  bool          \n",
      " 31  give_way               2207325 non-null  bool          \n",
      " 32  junction               2207325 non-null  bool          \n",
      " 33  no_exit                2207325 non-null  bool          \n",
      " 34  railway                2207325 non-null  bool          \n",
      " 35  roundabout             2207325 non-null  bool          \n",
      " 36  station                2207325 non-null  bool          \n",
      " 37  stop                   2207325 non-null  bool          \n",
      " 38  traffic_calming        2207325 non-null  bool          \n",
      " 39  traffic_signal         2207325 non-null  bool          \n",
      " 40  turning_loop           2207325 non-null  bool          \n",
      " 41  sunrise_sunset         2207325 non-null  object        \n",
      " 42  civil_twilight         2207325 non-null  object        \n",
      " 43  nautical_twilight      2207325 non-null  object        \n",
      " 44  astronomical_twilight  2207325 non-null  object        \n",
      "dtypes: bool(13), datetime64[ns](3), float64(12), int64(1), object(16)\n",
      "memory usage: 583.1+ MB\n"
     ]
    }
   ],
   "source": [
    "df.info(show_counts=True)"
   ]
  },
  {
   "cell_type": "code",
   "execution_count": 34,
   "id": "56337980",
   "metadata": {},
   "outputs": [
    {
     "data": {
      "text/plain": [
       "CALM        408032\n",
       "S           163900\n",
       "W           158931\n",
       "E           119700\n",
       "N           119291\n",
       "WNW         115609\n",
       "NW          113674\n",
       "SSW         107042\n",
       "VAR         101032\n",
       "WSW         100606\n",
       "SW          100580\n",
       "SSE          99911\n",
       "NNW          99872\n",
       "SE           87676\n",
       "ESE          83320\n",
       "ENE          78210\n",
       "NE           72642\n",
       "NNE          69145\n",
       "North         2617\n",
       "West          1830\n",
       "South         1597\n",
       "East          1588\n",
       "Variable       520\n",
       "Name: wind_direction, dtype: int64"
      ]
     },
     "execution_count": 34,
     "metadata": {},
     "output_type": "execute_result"
    }
   ],
   "source": [
    "df.wind_direction.value_counts()"
   ]
  },
  {
   "cell_type": "code",
   "execution_count": 36,
   "id": "4b579404",
   "metadata": {},
   "outputs": [],
   "source": [
    "df.wind_direction = df.wind_direction.str.replace('North','N').str.replace('West','W').str.replace('South','S').str.replace('East','E').str.replace('Variable', 'VAR')"
   ]
  },
  {
   "cell_type": "code",
   "execution_count": 37,
   "id": "5b536cee",
   "metadata": {},
   "outputs": [
    {
     "data": {
      "text/plain": [
       "CALM    408032\n",
       "S       165497\n",
       "W       160761\n",
       "N       121908\n",
       "E       121288\n",
       "WNW     115609\n",
       "NW      113674\n",
       "SSW     107042\n",
       "VAR     101552\n",
       "WSW     100606\n",
       "SW      100580\n",
       "SSE      99911\n",
       "NNW      99872\n",
       "SE       87676\n",
       "ESE      83320\n",
       "ENE      78210\n",
       "NE       72642\n",
       "NNE      69145\n",
       "Name: wind_direction, dtype: int64"
      ]
     },
     "execution_count": 37,
     "metadata": {},
     "output_type": "execute_result"
    }
   ],
   "source": [
    "df.wind_direction.value_counts()"
   ]
  },
  {
   "cell_type": "code",
   "execution_count": 40,
   "id": "1d1d7946",
   "metadata": {},
   "outputs": [],
   "source": [
    "df = df.drop(columns='airport_code')"
   ]
  },
  {
   "cell_type": "code",
   "execution_count": 41,
   "id": "6b723281",
   "metadata": {},
   "outputs": [
    {
     "data": {
      "text/plain": [
       "Fair                              1042415\n",
       "Cloudy                             334793\n",
       "Mostly Cloudy                      285317\n",
       "Partly Cloudy                      195367\n",
       "Light Rain                         106754\n",
       "                                   ...   \n",
       "Heavy Freezing Rain                     1\n",
       "Heavy Freezing Drizzle                  1\n",
       "Heavy Rain Shower / Windy               1\n",
       "Sand / Dust Whirlwinds / Windy          1\n",
       "Thunder and Hail / Windy                1\n",
       "Name: weather_condition, Length: 114, dtype: int64"
      ]
     },
     "execution_count": 41,
     "metadata": {},
     "output_type": "execute_result"
    }
   ],
   "source": [
    "df.weather_condition.value_counts()"
   ]
  },
  {
   "cell_type": "code",
   "execution_count": 42,
   "id": "5a7122cf",
   "metadata": {},
   "outputs": [
    {
     "data": {
      "text/plain": [
       "Day      1374753\n",
       "Night     832572\n",
       "Name: sunrise_sunset, dtype: int64"
      ]
     },
     "execution_count": 42,
     "metadata": {},
     "output_type": "execute_result"
    }
   ],
   "source": [
    "df.sunrise_sunset.value_counts()"
   ]
  },
  {
   "cell_type": "code",
   "execution_count": 90,
   "id": "f92c55a9",
   "metadata": {},
   "outputs": [
    {
     "data": {
      "text/plain": [
       "0    1374753\n",
       "1     832572\n",
       "Name: sunrise_sunset, dtype: int64"
      ]
     },
     "execution_count": 90,
     "metadata": {},
     "output_type": "execute_result"
    }
   ],
   "source": [
    "df.sunrise_sunset.map({'Day': 0, 'Night': 1}).value_counts()"
   ]
  },
  {
   "cell_type": "code",
   "execution_count": 91,
   "id": "75155cc3",
   "metadata": {},
   "outputs": [],
   "source": [
    "df.sunrise_sunset = df.sunrise_sunset.map({'Day': 0, 'Night': 1})"
   ]
  },
  {
   "cell_type": "code",
   "execution_count": 43,
   "id": "faa5c479",
   "metadata": {},
   "outputs": [
    {
     "data": {
      "text/plain": [
       "Day      1463403\n",
       "Night     743922\n",
       "Name: civil_twilight, dtype: int64"
      ]
     },
     "execution_count": 43,
     "metadata": {},
     "output_type": "execute_result"
    }
   ],
   "source": [
    "df.civil_twilight.value_counts()"
   ]
  },
  {
   "cell_type": "code",
   "execution_count": 92,
   "id": "10201486",
   "metadata": {},
   "outputs": [
    {
     "data": {
      "text/plain": [
       "0    1463403\n",
       "1     743922\n",
       "Name: civil_twilight, dtype: int64"
      ]
     },
     "execution_count": 92,
     "metadata": {},
     "output_type": "execute_result"
    }
   ],
   "source": [
    "df.civil_twilight.map({'Day': 0, 'Night': 1}).value_counts()"
   ]
  },
  {
   "cell_type": "code",
   "execution_count": 93,
   "id": "9b9f0d80",
   "metadata": {},
   "outputs": [],
   "source": [
    "df.civil_twilight = df.civil_twilight.map({'Day': 0, 'Night': 1})"
   ]
  },
  {
   "cell_type": "code",
   "execution_count": 44,
   "id": "94b2fc08",
   "metadata": {},
   "outputs": [
    {
     "data": {
      "text/plain": [
       "Day      1567600\n",
       "Night     639725\n",
       "Name: nautical_twilight, dtype: int64"
      ]
     },
     "execution_count": 44,
     "metadata": {},
     "output_type": "execute_result"
    }
   ],
   "source": [
    "df.nautical_twilight.value_counts()"
   ]
  },
  {
   "cell_type": "code",
   "execution_count": 94,
   "id": "f53baaa1",
   "metadata": {},
   "outputs": [
    {
     "data": {
      "text/plain": [
       "0    1567600\n",
       "1     639725\n",
       "Name: nautical_twilight, dtype: int64"
      ]
     },
     "execution_count": 94,
     "metadata": {},
     "output_type": "execute_result"
    }
   ],
   "source": [
    "df.nautical_twilight.map({'Day': 0, 'Night': 1}).value_counts()"
   ]
  },
  {
   "cell_type": "code",
   "execution_count": 95,
   "id": "e030c1cf",
   "metadata": {},
   "outputs": [],
   "source": [
    "df.nautical_twilight = df.nautical_twilight.map({'Day': 0, 'Night': 1})"
   ]
  },
  {
   "cell_type": "code",
   "execution_count": 45,
   "id": "c704ed95",
   "metadata": {},
   "outputs": [
    {
     "data": {
      "text/plain": [
       "Day      1656262\n",
       "Night     551063\n",
       "Name: astronomical_twilight, dtype: int64"
      ]
     },
     "execution_count": 45,
     "metadata": {},
     "output_type": "execute_result"
    }
   ],
   "source": [
    "df.astronomical_twilight.value_counts()"
   ]
  },
  {
   "cell_type": "code",
   "execution_count": 96,
   "id": "dc7944a8",
   "metadata": {},
   "outputs": [
    {
     "data": {
      "text/plain": [
       "0    1656262\n",
       "1     551063\n",
       "Name: astronomical_twilight, dtype: int64"
      ]
     },
     "execution_count": 96,
     "metadata": {},
     "output_type": "execute_result"
    }
   ],
   "source": [
    "df.astronomical_twilight.map({'Day': 0, 'Night': 1}).value_counts()"
   ]
  },
  {
   "cell_type": "code",
   "execution_count": 97,
   "id": "71aa332c",
   "metadata": {},
   "outputs": [],
   "source": [
    "df.astronomical_twilight = df.astronomical_twilight.map({'Day': 0, 'Night': 1})"
   ]
  },
  {
   "cell_type": "code",
   "execution_count": 49,
   "id": "70331aef",
   "metadata": {},
   "outputs": [
    {
     "data": {
      "text/plain": [
       "False    2183861\n",
       "True       23464\n",
       "Name: amenity, dtype: int64"
      ]
     },
     "execution_count": 49,
     "metadata": {},
     "output_type": "execute_result"
    }
   ],
   "source": [
    "df.amenity.value_counts()"
   ]
  },
  {
   "cell_type": "code",
   "execution_count": 50,
   "id": "81bf6083",
   "metadata": {},
   "outputs": [],
   "source": [
    "df.amenity = df.amenity.map({True: 1, False: 0})"
   ]
  },
  {
   "cell_type": "code",
   "execution_count": 53,
   "id": "9eb4d851",
   "metadata": {},
   "outputs": [],
   "source": [
    "df.bump = df.bump.map({True: 1, False: 0})"
   ]
  },
  {
   "cell_type": "code",
   "execution_count": 54,
   "id": "123bc8b2",
   "metadata": {},
   "outputs": [
    {
     "data": {
      "text/plain": [
       "False    2036718\n",
       "True      170607\n",
       "Name: crossing, dtype: int64"
      ]
     },
     "execution_count": 54,
     "metadata": {},
     "output_type": "execute_result"
    }
   ],
   "source": [
    "df.crossing.value_counts()"
   ]
  },
  {
   "cell_type": "code",
   "execution_count": 56,
   "id": "599fe18d",
   "metadata": {},
   "outputs": [
    {
     "data": {
      "text/plain": [
       "0    2036718\n",
       "1     170607\n",
       "Name: crossing, dtype: int64"
      ]
     },
     "execution_count": 56,
     "metadata": {},
     "output_type": "execute_result"
    }
   ],
   "source": [
    "df.crossing.map({True: 1, False: 0}).value_counts()"
   ]
  },
  {
   "cell_type": "code",
   "execution_count": 57,
   "id": "ea186be3",
   "metadata": {},
   "outputs": [],
   "source": [
    "df.crossing = df.crossing.map({True: 1, False: 0})"
   ]
  },
  {
   "cell_type": "code",
   "execution_count": 58,
   "id": "697233fb",
   "metadata": {},
   "outputs": [
    {
     "data": {
      "text/plain": [
       "False    2202007\n",
       "True        5318\n",
       "Name: give_way, dtype: int64"
      ]
     },
     "execution_count": 58,
     "metadata": {},
     "output_type": "execute_result"
    }
   ],
   "source": [
    "df.give_way.value_counts()"
   ]
  },
  {
   "cell_type": "code",
   "execution_count": 59,
   "id": "79ca6de6",
   "metadata": {},
   "outputs": [
    {
     "data": {
      "text/plain": [
       "0    2202007\n",
       "1       5318\n",
       "Name: give_way, dtype: int64"
      ]
     },
     "execution_count": 59,
     "metadata": {},
     "output_type": "execute_result"
    }
   ],
   "source": [
    "df.give_way.map({True: 1, False: 0}).value_counts()"
   ]
  },
  {
   "cell_type": "code",
   "execution_count": 60,
   "id": "1a0759d6",
   "metadata": {},
   "outputs": [],
   "source": [
    "df.give_way = df.give_way.map({True: 1, False: 0})"
   ]
  },
  {
   "cell_type": "code",
   "execution_count": 61,
   "id": "b8670ecc",
   "metadata": {},
   "outputs": [
    {
     "data": {
      "text/plain": [
       "False    2023881\n",
       "True      183444\n",
       "Name: junction, dtype: int64"
      ]
     },
     "execution_count": 61,
     "metadata": {},
     "output_type": "execute_result"
    }
   ],
   "source": [
    "df.junction.value_counts()"
   ]
  },
  {
   "cell_type": "code",
   "execution_count": 62,
   "id": "04332615",
   "metadata": {},
   "outputs": [
    {
     "data": {
      "text/plain": [
       "0    2023881\n",
       "1     183444\n",
       "Name: junction, dtype: int64"
      ]
     },
     "execution_count": 62,
     "metadata": {},
     "output_type": "execute_result"
    }
   ],
   "source": [
    "df.junction.map({True: 1, False: 0}).value_counts()"
   ]
  },
  {
   "cell_type": "code",
   "execution_count": 63,
   "id": "2e701082",
   "metadata": {},
   "outputs": [],
   "source": [
    "df.junction = df.junction.map({True: 1, False: 0})"
   ]
  },
  {
   "cell_type": "code",
   "execution_count": 64,
   "id": "e89b4c94",
   "metadata": {},
   "outputs": [
    {
     "data": {
      "text/plain": [
       "False    2203748\n",
       "True        3577\n",
       "Name: no_exit, dtype: int64"
      ]
     },
     "execution_count": 64,
     "metadata": {},
     "output_type": "execute_result"
    }
   ],
   "source": [
    "df.no_exit.value_counts()"
   ]
  },
  {
   "cell_type": "code",
   "execution_count": 66,
   "id": "74fe971b",
   "metadata": {},
   "outputs": [
    {
     "data": {
      "text/plain": [
       "0    2203748\n",
       "1       3577\n",
       "Name: no_exit, dtype: int64"
      ]
     },
     "execution_count": 66,
     "metadata": {},
     "output_type": "execute_result"
    }
   ],
   "source": [
    "df.no_exit.map({True: 1, False: 0}).value_counts()"
   ]
  },
  {
   "cell_type": "code",
   "execution_count": 67,
   "id": "96ac3938",
   "metadata": {},
   "outputs": [],
   "source": [
    "df.no_exit = df.no_exit.map({True: 1, False: 0})"
   ]
  },
  {
   "cell_type": "code",
   "execution_count": 68,
   "id": "5517f80c",
   "metadata": {},
   "outputs": [
    {
     "data": {
      "text/plain": [
       "False    2189427\n",
       "True       17898\n",
       "Name: railway, dtype: int64"
      ]
     },
     "execution_count": 68,
     "metadata": {},
     "output_type": "execute_result"
    }
   ],
   "source": [
    "df.railway.value_counts()"
   ]
  },
  {
   "cell_type": "code",
   "execution_count": 69,
   "id": "7d6a9dbe",
   "metadata": {},
   "outputs": [
    {
     "data": {
      "text/plain": [
       "0    2189427\n",
       "1      17898\n",
       "Name: railway, dtype: int64"
      ]
     },
     "execution_count": 69,
     "metadata": {},
     "output_type": "execute_result"
    }
   ],
   "source": [
    "df.railway.map({True: 1, False: 0}).value_counts()"
   ]
  },
  {
   "cell_type": "code",
   "execution_count": 70,
   "id": "224b8f36",
   "metadata": {},
   "outputs": [],
   "source": [
    "df.railway = df.railway.map({True: 1, False: 0})"
   ]
  },
  {
   "cell_type": "code",
   "execution_count": 71,
   "id": "60e65bef",
   "metadata": {},
   "outputs": [
    {
     "data": {
      "text/plain": [
       "False    2207224\n",
       "True         101\n",
       "Name: roundabout, dtype: int64"
      ]
     },
     "execution_count": 71,
     "metadata": {},
     "output_type": "execute_result"
    }
   ],
   "source": [
    "df.roundabout.value_counts()"
   ]
  },
  {
   "cell_type": "code",
   "execution_count": 72,
   "id": "a475b3f7",
   "metadata": {},
   "outputs": [
    {
     "data": {
      "text/plain": [
       "0    2207224\n",
       "1        101\n",
       "Name: roundabout, dtype: int64"
      ]
     },
     "execution_count": 72,
     "metadata": {},
     "output_type": "execute_result"
    }
   ],
   "source": [
    "df.roundabout.map({True: 1, False: 0}).value_counts()"
   ]
  },
  {
   "cell_type": "code",
   "execution_count": 73,
   "id": "4fd20461",
   "metadata": {},
   "outputs": [],
   "source": [
    "df.roundabout = df.roundabout.map({True: 1, False: 0})"
   ]
  },
  {
   "cell_type": "code",
   "execution_count": 74,
   "id": "eef7e02c",
   "metadata": {},
   "outputs": [
    {
     "data": {
      "text/plain": [
       "False    2147952\n",
       "True       59373\n",
       "Name: station, dtype: int64"
      ]
     },
     "execution_count": 74,
     "metadata": {},
     "output_type": "execute_result"
    }
   ],
   "source": [
    "df.station.value_counts()"
   ]
  },
  {
   "cell_type": "code",
   "execution_count": 75,
   "id": "2af0c4f8",
   "metadata": {},
   "outputs": [
    {
     "data": {
      "text/plain": [
       "0    2147952\n",
       "1      59373\n",
       "Name: station, dtype: int64"
      ]
     },
     "execution_count": 75,
     "metadata": {},
     "output_type": "execute_result"
    }
   ],
   "source": [
    "df.station.map({True: 1, False: 0}).value_counts()"
   ]
  },
  {
   "cell_type": "code",
   "execution_count": 76,
   "id": "4e05301c",
   "metadata": {},
   "outputs": [],
   "source": [
    "df.station = df.station.map({True: 1, False: 0})"
   ]
  },
  {
   "cell_type": "code",
   "execution_count": 77,
   "id": "e89349c1",
   "metadata": {},
   "outputs": [
    {
     "data": {
      "text/plain": [
       "False    2164356\n",
       "True       42969\n",
       "Name: stop, dtype: int64"
      ]
     },
     "execution_count": 77,
     "metadata": {},
     "output_type": "execute_result"
    }
   ],
   "source": [
    "df.stop.value_counts()"
   ]
  },
  {
   "cell_type": "code",
   "execution_count": 78,
   "id": "f62c0116",
   "metadata": {},
   "outputs": [
    {
     "data": {
      "text/plain": [
       "0    2164356\n",
       "1      42969\n",
       "Name: stop, dtype: int64"
      ]
     },
     "execution_count": 78,
     "metadata": {},
     "output_type": "execute_result"
    }
   ],
   "source": [
    "df.stop.map({True: 1, False: 0}).value_counts()"
   ]
  },
  {
   "cell_type": "code",
   "execution_count": 79,
   "id": "013e9359",
   "metadata": {},
   "outputs": [],
   "source": [
    "df.stop = df.stop.map({True: 1, False: 0})"
   ]
  },
  {
   "cell_type": "code",
   "execution_count": 80,
   "id": "d0dcd567",
   "metadata": {},
   "outputs": [
    {
     "data": {
      "text/plain": [
       "False    2205852\n",
       "True        1473\n",
       "Name: traffic_calming, dtype: int64"
      ]
     },
     "execution_count": 80,
     "metadata": {},
     "output_type": "execute_result"
    }
   ],
   "source": [
    "df.traffic_calming.value_counts()"
   ]
  },
  {
   "cell_type": "code",
   "execution_count": 81,
   "id": "82cef31f",
   "metadata": {},
   "outputs": [
    {
     "data": {
      "text/plain": [
       "0    2205852\n",
       "1       1473\n",
       "Name: traffic_calming, dtype: int64"
      ]
     },
     "execution_count": 81,
     "metadata": {},
     "output_type": "execute_result"
    }
   ],
   "source": [
    "df.traffic_calming.map({True: 1, False: 0}).value_counts()"
   ]
  },
  {
   "cell_type": "code",
   "execution_count": 82,
   "id": "aec7772d",
   "metadata": {},
   "outputs": [],
   "source": [
    "df.traffic_calming = df.traffic_calming.map({True: 1, False: 0})"
   ]
  },
  {
   "cell_type": "code",
   "execution_count": 83,
   "id": "c029a6d8",
   "metadata": {},
   "outputs": [
    {
     "data": {
      "text/plain": [
       "False    1994209\n",
       "True      213116\n",
       "Name: traffic_signal, dtype: int64"
      ]
     },
     "execution_count": 83,
     "metadata": {},
     "output_type": "execute_result"
    }
   ],
   "source": [
    "df.traffic_signal.value_counts()"
   ]
  },
  {
   "cell_type": "code",
   "execution_count": 84,
   "id": "856613fc",
   "metadata": {},
   "outputs": [
    {
     "data": {
      "text/plain": [
       "0    1994209\n",
       "1     213116\n",
       "Name: traffic_signal, dtype: int64"
      ]
     },
     "execution_count": 84,
     "metadata": {},
     "output_type": "execute_result"
    }
   ],
   "source": [
    "df.traffic_signal.map({True: 1, False: 0}).value_counts()"
   ]
  },
  {
   "cell_type": "code",
   "execution_count": 86,
   "id": "a13d1e2c",
   "metadata": {},
   "outputs": [],
   "source": [
    "df.traffic_signal = df.traffic_signal.map({True: 1, False: 0})"
   ]
  },
  {
   "cell_type": "code",
   "execution_count": 87,
   "id": "4709bdfa",
   "metadata": {},
   "outputs": [
    {
     "data": {
      "text/plain": [
       "False    2207325\n",
       "Name: turning_loop, dtype: int64"
      ]
     },
     "execution_count": 87,
     "metadata": {},
     "output_type": "execute_result"
    }
   ],
   "source": [
    "df.turning_loop.value_counts()"
   ]
  },
  {
   "cell_type": "code",
   "execution_count": 88,
   "id": "768efc07",
   "metadata": {},
   "outputs": [],
   "source": [
    "df = df.drop(columns='turning_loop')"
   ]
  },
  {
   "cell_type": "code",
   "execution_count": 98,
   "id": "d5e5e0b9",
   "metadata": {},
   "outputs": [
    {
     "name": "stdout",
     "output_type": "stream",
     "text": [
      "<class 'pandas.core.frame.DataFrame'>\n",
      "Int64Index: 2207325 entries, 0 to 2845341\n",
      "Data columns (total 43 columns):\n",
      " #   Column                 Non-Null Count    Dtype         \n",
      "---  ------                 --------------    -----         \n",
      " 0   id                     2207325 non-null  object        \n",
      " 1   severity               2207325 non-null  int64         \n",
      " 2   start_time             2207325 non-null  datetime64[ns]\n",
      " 3   end_time               2207325 non-null  datetime64[ns]\n",
      " 4   start_lat              2207325 non-null  float64       \n",
      " 5   start_lng              2207325 non-null  float64       \n",
      " 6   end_lat                2207325 non-null  float64       \n",
      " 7   end_lng                2207325 non-null  float64       \n",
      " 8   distance(mi)           2207325 non-null  float64       \n",
      " 9   description            2207325 non-null  object        \n",
      " 10  street                 2207325 non-null  object        \n",
      " 11  side                   2207325 non-null  object        \n",
      " 12  city                   2207325 non-null  object        \n",
      " 13  county                 2207325 non-null  object        \n",
      " 14  state                  2207325 non-null  object        \n",
      " 15  zipcode                2207325 non-null  object        \n",
      " 16  timezone               2207325 non-null  object        \n",
      " 17  weather_timestamp      2207325 non-null  datetime64[ns]\n",
      " 18  temperature(f)         2207325 non-null  float64       \n",
      " 19  wind_chill(f)          2207325 non-null  float64       \n",
      " 20  humidity(%)            2207325 non-null  float64       \n",
      " 21  pressure(in)           2207325 non-null  float64       \n",
      " 22  visibility(mi)         2207325 non-null  float64       \n",
      " 23  wind_direction         2207325 non-null  object        \n",
      " 24  wind_speed(mph)        2207325 non-null  float64       \n",
      " 25  precipitation(in)      2207325 non-null  float64       \n",
      " 26  weather_condition      2207325 non-null  object        \n",
      " 27  amenity                2207325 non-null  int64         \n",
      " 28  bump                   2207325 non-null  int64         \n",
      " 29  crossing               2207325 non-null  int64         \n",
      " 30  give_way               2207325 non-null  int64         \n",
      " 31  junction               2207325 non-null  int64         \n",
      " 32  no_exit                2207325 non-null  int64         \n",
      " 33  railway                2207325 non-null  int64         \n",
      " 34  roundabout             2207325 non-null  int64         \n",
      " 35  station                2207325 non-null  int64         \n",
      " 36  stop                   2207325 non-null  int64         \n",
      " 37  traffic_calming        2207325 non-null  int64         \n",
      " 38  traffic_signal         2207325 non-null  int64         \n",
      " 39  sunrise_sunset         2207325 non-null  int64         \n",
      " 40  civil_twilight         2207325 non-null  int64         \n",
      " 41  nautical_twilight      2207325 non-null  int64         \n",
      " 42  astronomical_twilight  2207325 non-null  int64         \n",
      "dtypes: datetime64[ns](3), float64(12), int64(17), object(11)\n",
      "memory usage: 741.0+ MB\n"
     ]
    }
   ],
   "source": [
    "df.info(show_counts=True)"
   ]
  },
  {
   "cell_type": "code",
   "execution_count": 104,
   "id": "547df768",
   "metadata": {},
   "outputs": [],
   "source": [
    "df = df.rename(columns={'distance(mi)':'distance', 'temperature(f)':'temperature', 'wind_chill(f)':'wind_chill', \n",
    "                  'humidity(%)':'humidity', 'pressure(in)':'pressure', 'visibility(mi)':'visibility', \n",
    "                  'wind_speed(mph)':'wind_speed', 'precipitation(in)':'precipitation'})"
   ]
  },
  {
   "cell_type": "code",
   "execution_count": 105,
   "id": "0db18a28",
   "metadata": {},
   "outputs": [
    {
     "name": "stdout",
     "output_type": "stream",
     "text": [
      "<class 'pandas.core.frame.DataFrame'>\n",
      "Int64Index: 2207325 entries, 0 to 2845341\n",
      "Data columns (total 43 columns):\n",
      " #   Column                 Dtype         \n",
      "---  ------                 -----         \n",
      " 0   id                     object        \n",
      " 1   severity               int64         \n",
      " 2   start_time             datetime64[ns]\n",
      " 3   end_time               datetime64[ns]\n",
      " 4   start_lat              float64       \n",
      " 5   start_lng              float64       \n",
      " 6   end_lat                float64       \n",
      " 7   end_lng                float64       \n",
      " 8   distance               float64       \n",
      " 9   description            object        \n",
      " 10  street                 object        \n",
      " 11  side                   object        \n",
      " 12  city                   object        \n",
      " 13  county                 object        \n",
      " 14  state                  object        \n",
      " 15  zipcode                object        \n",
      " 16  timezone               object        \n",
      " 17  weather_timestamp      datetime64[ns]\n",
      " 18  temperature            float64       \n",
      " 19  wind_chill             float64       \n",
      " 20  humidity               float64       \n",
      " 21  pressure               float64       \n",
      " 22  visibility             float64       \n",
      " 23  wind_direction         object        \n",
      " 24  wind_speed             float64       \n",
      " 25  precipitation          float64       \n",
      " 26  weather_condition      object        \n",
      " 27  amenity                int64         \n",
      " 28  bump                   int64         \n",
      " 29  crossing               int64         \n",
      " 30  give_way               int64         \n",
      " 31  junction               int64         \n",
      " 32  no_exit                int64         \n",
      " 33  railway                int64         \n",
      " 34  roundabout             int64         \n",
      " 35  station                int64         \n",
      " 36  stop                   int64         \n",
      " 37  traffic_calming        int64         \n",
      " 38  traffic_signal         int64         \n",
      " 39  sunrise_sunset         int64         \n",
      " 40  civil_twilight         int64         \n",
      " 41  nautical_twilight      int64         \n",
      " 42  astronomical_twilight  int64         \n",
      "dtypes: datetime64[ns](3), float64(12), int64(17), object(11)\n",
      "memory usage: 741.0+ MB\n"
     ]
    }
   ],
   "source": [
    "df.info()"
   ]
  },
  {
   "cell_type": "code",
   "execution_count": 106,
   "id": "212dbd78",
   "metadata": {},
   "outputs": [
    {
     "data": {
      "text/html": [
       "<div>\n",
       "<style scoped>\n",
       "    .dataframe tbody tr th:only-of-type {\n",
       "        vertical-align: middle;\n",
       "    }\n",
       "\n",
       "    .dataframe tbody tr th {\n",
       "        vertical-align: top;\n",
       "    }\n",
       "\n",
       "    .dataframe thead th {\n",
       "        text-align: right;\n",
       "    }\n",
       "</style>\n",
       "<table border=\"1\" class=\"dataframe\">\n",
       "  <thead>\n",
       "    <tr style=\"text-align: right;\">\n",
       "      <th></th>\n",
       "      <th>count</th>\n",
       "      <th>mean</th>\n",
       "      <th>std</th>\n",
       "      <th>min</th>\n",
       "      <th>25%</th>\n",
       "      <th>50%</th>\n",
       "      <th>75%</th>\n",
       "      <th>max</th>\n",
       "    </tr>\n",
       "  </thead>\n",
       "  <tbody>\n",
       "    <tr>\n",
       "      <th>severity</th>\n",
       "      <td>2207325.0</td>\n",
       "      <td>2.074862</td>\n",
       "      <td>0.383241</td>\n",
       "      <td>1.000000</td>\n",
       "      <td>2.000000</td>\n",
       "      <td>2.000000</td>\n",
       "      <td>2.000000</td>\n",
       "      <td>4.00000</td>\n",
       "    </tr>\n",
       "    <tr>\n",
       "      <th>start_lat</th>\n",
       "      <td>2207325.0</td>\n",
       "      <td>36.007256</td>\n",
       "      <td>5.472439</td>\n",
       "      <td>24.566027</td>\n",
       "      <td>32.961337</td>\n",
       "      <td>35.742292</td>\n",
       "      <td>40.068340</td>\n",
       "      <td>49.00058</td>\n",
       "    </tr>\n",
       "    <tr>\n",
       "      <th>start_lng</th>\n",
       "      <td>2207325.0</td>\n",
       "      <td>-96.620942</td>\n",
       "      <td>18.264535</td>\n",
       "      <td>-124.548074</td>\n",
       "      <td>-117.977579</td>\n",
       "      <td>-91.066492</td>\n",
       "      <td>-80.335197</td>\n",
       "      <td>-67.48413</td>\n",
       "    </tr>\n",
       "    <tr>\n",
       "      <th>end_lat</th>\n",
       "      <td>2207325.0</td>\n",
       "      <td>36.007402</td>\n",
       "      <td>5.472547</td>\n",
       "      <td>24.566013</td>\n",
       "      <td>32.960648</td>\n",
       "      <td>35.742992</td>\n",
       "      <td>40.068509</td>\n",
       "      <td>49.07500</td>\n",
       "    </tr>\n",
       "    <tr>\n",
       "      <th>end_lng</th>\n",
       "      <td>2207325.0</td>\n",
       "      <td>-96.620680</td>\n",
       "      <td>18.264283</td>\n",
       "      <td>-124.545748</td>\n",
       "      <td>-117.978173</td>\n",
       "      <td>-91.065553</td>\n",
       "      <td>-80.335591</td>\n",
       "      <td>-67.48413</td>\n",
       "    </tr>\n",
       "    <tr>\n",
       "      <th>distance</th>\n",
       "      <td>2207325.0</td>\n",
       "      <td>0.696784</td>\n",
       "      <td>1.505373</td>\n",
       "      <td>0.000000</td>\n",
       "      <td>0.046000</td>\n",
       "      <td>0.210000</td>\n",
       "      <td>0.782000</td>\n",
       "      <td>155.18600</td>\n",
       "    </tr>\n",
       "    <tr>\n",
       "      <th>temperature</th>\n",
       "      <td>2207325.0</td>\n",
       "      <td>61.838083</td>\n",
       "      <td>18.561719</td>\n",
       "      <td>-33.000000</td>\n",
       "      <td>50.000000</td>\n",
       "      <td>64.000000</td>\n",
       "      <td>76.000000</td>\n",
       "      <td>196.00000</td>\n",
       "    </tr>\n",
       "    <tr>\n",
       "      <th>wind_chill</th>\n",
       "      <td>2207325.0</td>\n",
       "      <td>60.716421</td>\n",
       "      <td>20.518191</td>\n",
       "      <td>-50.100000</td>\n",
       "      <td>50.000000</td>\n",
       "      <td>64.000000</td>\n",
       "      <td>76.000000</td>\n",
       "      <td>196.00000</td>\n",
       "    </tr>\n",
       "    <tr>\n",
       "      <th>humidity</th>\n",
       "      <td>2207325.0</td>\n",
       "      <td>64.684914</td>\n",
       "      <td>22.713228</td>\n",
       "      <td>1.000000</td>\n",
       "      <td>49.000000</td>\n",
       "      <td>67.000000</td>\n",
       "      <td>84.000000</td>\n",
       "      <td>100.00000</td>\n",
       "    </tr>\n",
       "    <tr>\n",
       "      <th>pressure</th>\n",
       "      <td>2207325.0</td>\n",
       "      <td>29.373684</td>\n",
       "      <td>1.092007</td>\n",
       "      <td>16.720000</td>\n",
       "      <td>29.210000</td>\n",
       "      <td>29.730000</td>\n",
       "      <td>29.970000</td>\n",
       "      <td>58.90000</td>\n",
       "    </tr>\n",
       "    <tr>\n",
       "      <th>visibility</th>\n",
       "      <td>2207325.0</td>\n",
       "      <td>9.046080</td>\n",
       "      <td>2.610565</td>\n",
       "      <td>0.000000</td>\n",
       "      <td>10.000000</td>\n",
       "      <td>10.000000</td>\n",
       "      <td>10.000000</td>\n",
       "      <td>100.00000</td>\n",
       "    </tr>\n",
       "    <tr>\n",
       "      <th>wind_speed</th>\n",
       "      <td>2207325.0</td>\n",
       "      <td>7.152117</td>\n",
       "      <td>5.517968</td>\n",
       "      <td>0.000000</td>\n",
       "      <td>3.000000</td>\n",
       "      <td>7.000000</td>\n",
       "      <td>10.000000</td>\n",
       "      <td>1087.00000</td>\n",
       "    </tr>\n",
       "    <tr>\n",
       "      <th>precipitation</th>\n",
       "      <td>2207325.0</td>\n",
       "      <td>0.005705</td>\n",
       "      <td>0.058258</td>\n",
       "      <td>0.000000</td>\n",
       "      <td>0.000000</td>\n",
       "      <td>0.000000</td>\n",
       "      <td>0.000000</td>\n",
       "      <td>24.00000</td>\n",
       "    </tr>\n",
       "    <tr>\n",
       "      <th>amenity</th>\n",
       "      <td>2207325.0</td>\n",
       "      <td>0.010630</td>\n",
       "      <td>0.102553</td>\n",
       "      <td>0.000000</td>\n",
       "      <td>0.000000</td>\n",
       "      <td>0.000000</td>\n",
       "      <td>0.000000</td>\n",
       "      <td>1.00000</td>\n",
       "    </tr>\n",
       "    <tr>\n",
       "      <th>bump</th>\n",
       "      <td>2207325.0</td>\n",
       "      <td>0.000411</td>\n",
       "      <td>0.020278</td>\n",
       "      <td>0.000000</td>\n",
       "      <td>0.000000</td>\n",
       "      <td>0.000000</td>\n",
       "      <td>0.000000</td>\n",
       "      <td>1.00000</td>\n",
       "    </tr>\n",
       "    <tr>\n",
       "      <th>crossing</th>\n",
       "      <td>2207325.0</td>\n",
       "      <td>0.077291</td>\n",
       "      <td>0.267053</td>\n",
       "      <td>0.000000</td>\n",
       "      <td>0.000000</td>\n",
       "      <td>0.000000</td>\n",
       "      <td>0.000000</td>\n",
       "      <td>1.00000</td>\n",
       "    </tr>\n",
       "    <tr>\n",
       "      <th>give_way</th>\n",
       "      <td>2207325.0</td>\n",
       "      <td>0.002409</td>\n",
       "      <td>0.049025</td>\n",
       "      <td>0.000000</td>\n",
       "      <td>0.000000</td>\n",
       "      <td>0.000000</td>\n",
       "      <td>0.000000</td>\n",
       "      <td>1.00000</td>\n",
       "    </tr>\n",
       "    <tr>\n",
       "      <th>junction</th>\n",
       "      <td>2207325.0</td>\n",
       "      <td>0.083107</td>\n",
       "      <td>0.276044</td>\n",
       "      <td>0.000000</td>\n",
       "      <td>0.000000</td>\n",
       "      <td>0.000000</td>\n",
       "      <td>0.000000</td>\n",
       "      <td>1.00000</td>\n",
       "    </tr>\n",
       "    <tr>\n",
       "      <th>no_exit</th>\n",
       "      <td>2207325.0</td>\n",
       "      <td>0.001621</td>\n",
       "      <td>0.040223</td>\n",
       "      <td>0.000000</td>\n",
       "      <td>0.000000</td>\n",
       "      <td>0.000000</td>\n",
       "      <td>0.000000</td>\n",
       "      <td>1.00000</td>\n",
       "    </tr>\n",
       "    <tr>\n",
       "      <th>railway</th>\n",
       "      <td>2207325.0</td>\n",
       "      <td>0.008108</td>\n",
       "      <td>0.089681</td>\n",
       "      <td>0.000000</td>\n",
       "      <td>0.000000</td>\n",
       "      <td>0.000000</td>\n",
       "      <td>0.000000</td>\n",
       "      <td>1.00000</td>\n",
       "    </tr>\n",
       "    <tr>\n",
       "      <th>roundabout</th>\n",
       "      <td>2207325.0</td>\n",
       "      <td>0.000046</td>\n",
       "      <td>0.006764</td>\n",
       "      <td>0.000000</td>\n",
       "      <td>0.000000</td>\n",
       "      <td>0.000000</td>\n",
       "      <td>0.000000</td>\n",
       "      <td>1.00000</td>\n",
       "    </tr>\n",
       "    <tr>\n",
       "      <th>station</th>\n",
       "      <td>2207325.0</td>\n",
       "      <td>0.026898</td>\n",
       "      <td>0.161786</td>\n",
       "      <td>0.000000</td>\n",
       "      <td>0.000000</td>\n",
       "      <td>0.000000</td>\n",
       "      <td>0.000000</td>\n",
       "      <td>1.00000</td>\n",
       "    </tr>\n",
       "    <tr>\n",
       "      <th>stop</th>\n",
       "      <td>2207325.0</td>\n",
       "      <td>0.019467</td>\n",
       "      <td>0.138158</td>\n",
       "      <td>0.000000</td>\n",
       "      <td>0.000000</td>\n",
       "      <td>0.000000</td>\n",
       "      <td>0.000000</td>\n",
       "      <td>1.00000</td>\n",
       "    </tr>\n",
       "    <tr>\n",
       "      <th>traffic_calming</th>\n",
       "      <td>2207325.0</td>\n",
       "      <td>0.000667</td>\n",
       "      <td>0.025824</td>\n",
       "      <td>0.000000</td>\n",
       "      <td>0.000000</td>\n",
       "      <td>0.000000</td>\n",
       "      <td>0.000000</td>\n",
       "      <td>1.00000</td>\n",
       "    </tr>\n",
       "    <tr>\n",
       "      <th>traffic_signal</th>\n",
       "      <td>2207325.0</td>\n",
       "      <td>0.096549</td>\n",
       "      <td>0.295343</td>\n",
       "      <td>0.000000</td>\n",
       "      <td>0.000000</td>\n",
       "      <td>0.000000</td>\n",
       "      <td>0.000000</td>\n",
       "      <td>1.00000</td>\n",
       "    </tr>\n",
       "    <tr>\n",
       "      <th>sunrise_sunset</th>\n",
       "      <td>2207325.0</td>\n",
       "      <td>0.377186</td>\n",
       "      <td>0.484682</td>\n",
       "      <td>0.000000</td>\n",
       "      <td>0.000000</td>\n",
       "      <td>0.000000</td>\n",
       "      <td>1.000000</td>\n",
       "      <td>1.00000</td>\n",
       "    </tr>\n",
       "    <tr>\n",
       "      <th>civil_twilight</th>\n",
       "      <td>2207325.0</td>\n",
       "      <td>0.337024</td>\n",
       "      <td>0.472693</td>\n",
       "      <td>0.000000</td>\n",
       "      <td>0.000000</td>\n",
       "      <td>0.000000</td>\n",
       "      <td>1.000000</td>\n",
       "      <td>1.00000</td>\n",
       "    </tr>\n",
       "    <tr>\n",
       "      <th>nautical_twilight</th>\n",
       "      <td>2207325.0</td>\n",
       "      <td>0.289819</td>\n",
       "      <td>0.453678</td>\n",
       "      <td>0.000000</td>\n",
       "      <td>0.000000</td>\n",
       "      <td>0.000000</td>\n",
       "      <td>1.000000</td>\n",
       "      <td>1.00000</td>\n",
       "    </tr>\n",
       "    <tr>\n",
       "      <th>astronomical_twilight</th>\n",
       "      <td>2207325.0</td>\n",
       "      <td>0.249652</td>\n",
       "      <td>0.432812</td>\n",
       "      <td>0.000000</td>\n",
       "      <td>0.000000</td>\n",
       "      <td>0.000000</td>\n",
       "      <td>0.000000</td>\n",
       "      <td>1.00000</td>\n",
       "    </tr>\n",
       "  </tbody>\n",
       "</table>\n",
       "</div>"
      ],
      "text/plain": [
       "                           count       mean        std         min  \\\n",
       "severity               2207325.0   2.074862   0.383241    1.000000   \n",
       "start_lat              2207325.0  36.007256   5.472439   24.566027   \n",
       "start_lng              2207325.0 -96.620942  18.264535 -124.548074   \n",
       "end_lat                2207325.0  36.007402   5.472547   24.566013   \n",
       "end_lng                2207325.0 -96.620680  18.264283 -124.545748   \n",
       "distance               2207325.0   0.696784   1.505373    0.000000   \n",
       "temperature            2207325.0  61.838083  18.561719  -33.000000   \n",
       "wind_chill             2207325.0  60.716421  20.518191  -50.100000   \n",
       "humidity               2207325.0  64.684914  22.713228    1.000000   \n",
       "pressure               2207325.0  29.373684   1.092007   16.720000   \n",
       "visibility             2207325.0   9.046080   2.610565    0.000000   \n",
       "wind_speed             2207325.0   7.152117   5.517968    0.000000   \n",
       "precipitation          2207325.0   0.005705   0.058258    0.000000   \n",
       "amenity                2207325.0   0.010630   0.102553    0.000000   \n",
       "bump                   2207325.0   0.000411   0.020278    0.000000   \n",
       "crossing               2207325.0   0.077291   0.267053    0.000000   \n",
       "give_way               2207325.0   0.002409   0.049025    0.000000   \n",
       "junction               2207325.0   0.083107   0.276044    0.000000   \n",
       "no_exit                2207325.0   0.001621   0.040223    0.000000   \n",
       "railway                2207325.0   0.008108   0.089681    0.000000   \n",
       "roundabout             2207325.0   0.000046   0.006764    0.000000   \n",
       "station                2207325.0   0.026898   0.161786    0.000000   \n",
       "stop                   2207325.0   0.019467   0.138158    0.000000   \n",
       "traffic_calming        2207325.0   0.000667   0.025824    0.000000   \n",
       "traffic_signal         2207325.0   0.096549   0.295343    0.000000   \n",
       "sunrise_sunset         2207325.0   0.377186   0.484682    0.000000   \n",
       "civil_twilight         2207325.0   0.337024   0.472693    0.000000   \n",
       "nautical_twilight      2207325.0   0.289819   0.453678    0.000000   \n",
       "astronomical_twilight  2207325.0   0.249652   0.432812    0.000000   \n",
       "\n",
       "                              25%        50%        75%         max  \n",
       "severity                 2.000000   2.000000   2.000000     4.00000  \n",
       "start_lat               32.961337  35.742292  40.068340    49.00058  \n",
       "start_lng             -117.977579 -91.066492 -80.335197   -67.48413  \n",
       "end_lat                 32.960648  35.742992  40.068509    49.07500  \n",
       "end_lng               -117.978173 -91.065553 -80.335591   -67.48413  \n",
       "distance                 0.046000   0.210000   0.782000   155.18600  \n",
       "temperature             50.000000  64.000000  76.000000   196.00000  \n",
       "wind_chill              50.000000  64.000000  76.000000   196.00000  \n",
       "humidity                49.000000  67.000000  84.000000   100.00000  \n",
       "pressure                29.210000  29.730000  29.970000    58.90000  \n",
       "visibility              10.000000  10.000000  10.000000   100.00000  \n",
       "wind_speed               3.000000   7.000000  10.000000  1087.00000  \n",
       "precipitation            0.000000   0.000000   0.000000    24.00000  \n",
       "amenity                  0.000000   0.000000   0.000000     1.00000  \n",
       "bump                     0.000000   0.000000   0.000000     1.00000  \n",
       "crossing                 0.000000   0.000000   0.000000     1.00000  \n",
       "give_way                 0.000000   0.000000   0.000000     1.00000  \n",
       "junction                 0.000000   0.000000   0.000000     1.00000  \n",
       "no_exit                  0.000000   0.000000   0.000000     1.00000  \n",
       "railway                  0.000000   0.000000   0.000000     1.00000  \n",
       "roundabout               0.000000   0.000000   0.000000     1.00000  \n",
       "station                  0.000000   0.000000   0.000000     1.00000  \n",
       "stop                     0.000000   0.000000   0.000000     1.00000  \n",
       "traffic_calming          0.000000   0.000000   0.000000     1.00000  \n",
       "traffic_signal           0.000000   0.000000   0.000000     1.00000  \n",
       "sunrise_sunset           0.000000   0.000000   1.000000     1.00000  \n",
       "civil_twilight           0.000000   0.000000   1.000000     1.00000  \n",
       "nautical_twilight        0.000000   0.000000   1.000000     1.00000  \n",
       "astronomical_twilight    0.000000   0.000000   0.000000     1.00000  "
      ]
     },
     "execution_count": 106,
     "metadata": {},
     "output_type": "execute_result"
    }
   ],
   "source": [
    "df.describe().T"
   ]
  },
  {
   "cell_type": "code",
   "execution_count": 114,
   "id": "480cc472",
   "metadata": {},
   "outputs": [
    {
     "data": {
      "text/plain": [
       "480292     117.0\n",
       "544402     117.0\n",
       "568384     117.0\n",
       "698435     117.0\n",
       "1225304    117.0\n",
       "792954     119.0\n",
       "872112     119.0\n",
       "1398340    119.0\n",
       "968234     119.0\n",
       "422763     119.0\n",
       "Name: wind_chill, dtype: float64"
      ]
     },
     "execution_count": 114,
     "metadata": {},
     "output_type": "execute_result"
    }
   ],
   "source": [
    "df.wind_chill.sort_values().tail(10)"
   ]
  },
  {
   "cell_type": "code",
   "execution_count": 110,
   "id": "6a2b6fac",
   "metadata": {},
   "outputs": [],
   "source": [
    "df = df[df.wind_chill < 120]"
   ]
  },
  {
   "cell_type": "code",
   "execution_count": 111,
   "id": "c28f7d9d",
   "metadata": {},
   "outputs": [
    {
     "data": {
      "text/plain": [
       "792954     119.0\n",
       "872112     119.0\n",
       "1398340    119.0\n",
       "968234     119.0\n",
       "422763     119.0\n",
       "Name: temperature, dtype: float64"
      ]
     },
     "execution_count": 111,
     "metadata": {},
     "output_type": "execute_result"
    }
   ],
   "source": [
    "df.temperature.sort_values().tail()"
   ]
  },
  {
   "cell_type": "code",
   "execution_count": 115,
   "id": "c0e32a1c",
   "metadata": {},
   "outputs": [
    {
     "data": {
      "text/plain": [
       "619948       58.0\n",
       "1939088      58.0\n",
       "1916784      58.0\n",
       "613637       58.0\n",
       "2278728      61.0\n",
       "1704054      67.0\n",
       "1724790      67.0\n",
       "1362401      67.0\n",
       "1605432      67.0\n",
       "908165       75.0\n",
       "791053       75.0\n",
       "1440411      75.0\n",
       "1773960      98.0\n",
       "2005335      98.0\n",
       "2141061     105.0\n",
       "2141068     105.0\n",
       "1721370     110.0\n",
       "1690743     110.0\n",
       "1605556     110.0\n",
       "2827848     110.0\n",
       "1713798     110.0\n",
       "1155057     119.0\n",
       "904452      119.0\n",
       "569754      119.0\n",
       "241152      129.0\n",
       "1859156     130.0\n",
       "2107859     131.0\n",
       "2107869     131.0\n",
       "2107867     131.0\n",
       "2107855     131.0\n",
       "2107870     131.0\n",
       "2107851     131.0\n",
       "2107864     131.0\n",
       "536707      132.0\n",
       "2819258     142.0\n",
       "2819241     142.0\n",
       "2819237     142.0\n",
       "2837771     161.0\n",
       "2397565     169.0\n",
       "2397564     169.0\n",
       "1417386     186.0\n",
       "1357021     186.0\n",
       "825742      186.0\n",
       "1224096     186.0\n",
       "1955910     211.0\n",
       "2104007     232.0\n",
       "1414359     243.0\n",
       "710258      812.0\n",
       "2225067     984.0\n",
       "1486460    1087.0\n",
       "Name: wind_speed, dtype: float64"
      ]
     },
     "execution_count": 115,
     "metadata": {},
     "output_type": "execute_result"
    }
   ],
   "source": [
    "df.wind_speed.sort_values().tail(50)"
   ]
  },
  {
   "cell_type": "code",
   "execution_count": 121,
   "id": "06678b20",
   "metadata": {},
   "outputs": [],
   "source": [
    "df = df[df.wind_speed < 60]"
   ]
  },
  {
   "cell_type": "code",
   "execution_count": 122,
   "id": "e4119f12",
   "metadata": {},
   "outputs": [
    {
     "data": {
      "text/plain": [
       "1933306     96.584\n",
       "1568369     96.584\n",
       "1846936     99.791\n",
       "1726809     99.952\n",
       "1673513    100.896\n",
       "1918118    101.642\n",
       "1663349    102.264\n",
       "1913323    102.794\n",
       "2331352    103.497\n",
       "1579860    104.302\n",
       "1518945    104.302\n",
       "1556828    106.128\n",
       "2433474    107.534\n",
       "2416887    109.176\n",
       "1892646    112.968\n",
       "1803836    112.968\n",
       "1957978    112.968\n",
       "1954928    112.968\n",
       "1079448    136.626\n",
       "709861     136.626\n",
       "2275228    149.687\n",
       "2275227    149.690\n",
       "144        150.138\n",
       "2422456    152.543\n",
       "2283651    155.186\n",
       "Name: distance, dtype: float64"
      ]
     },
     "execution_count": 122,
     "metadata": {},
     "output_type": "execute_result"
    }
   ],
   "source": [
    "df.distance.sort_values().tail(25)"
   ]
  },
  {
   "cell_type": "code",
   "execution_count": 125,
   "id": "431a2d39",
   "metadata": {},
   "outputs": [
    {
     "data": {
      "text/plain": [
       "0.0    1325293\n",
       "0.1     430790\n",
       "0.2      40434\n",
       "0.3       2469\n",
       "0.4        222\n",
       "Name: wind_speed, dtype: int64"
      ]
     },
     "execution_count": 125,
     "metadata": {},
     "output_type": "execute_result"
    }
   ],
   "source": [
    "pd.cut(df.wind_speed, bins = [0, 10, 20, 30, 40, 50], \n",
    "                       labels = [0, .1, .2, .3, .4]).value_counts()"
   ]
  },
  {
   "cell_type": "code",
   "execution_count": null,
   "id": "a37dd762",
   "metadata": {},
   "outputs": [],
   "source": []
  },
  {
   "cell_type": "code",
   "execution_count": 99,
   "id": "db6be0b6",
   "metadata": {},
   "outputs": [],
   "source": [
    "df.to_csv('accidents_clean.csv', index=False)"
   ]
  },
  {
   "cell_type": "code",
   "execution_count": 129,
   "id": "ba46b7d9",
   "metadata": {},
   "outputs": [],
   "source": [
    "def wrangle_data():\n",
    "    df = pd.read_csv('accidents.csv')\n",
    "    df.columns = df.columns.str.lower()\n",
    "    df = df.drop(columns=['number','country','airport_code','turning_loop'])\n",
    "    df = df.dropna()\n",
    "    df.weather_timestamp = pd.to_datetime(df.weather_timestamp)\n",
    "    df.start_time = pd.to_datetime(df.start_time)\n",
    "    df.end_time = pd.to_datetime(df.end_time)\n",
    "    df.wind_direction = df.wind_direction.str.replace('North','N').str.replace('West','W')\\\n",
    "    .str.replace('South','S').str.replace('East','E').str.replace('Variable', 'VAR')\n",
    "    df.sunrise_sunset = df.sunrise_sunset.map({'Day': 0, 'Night': 1})\n",
    "    df.civil_twilight = df.civil_twilight.map({'Day': 0, 'Night': 1})\n",
    "    df.nautical_twilight = df.nautical_twilight.map({'Day': 0, 'Night': 1})\n",
    "    df.astronomical_twilight = df.astronomical_twilight.map({'Day': 0, 'Night': 1})\n",
    "    df.amenity = df.amenity.map({True: 1, False: 0})\n",
    "    df.bump = df.bump.map({True: 1, False: 0})\n",
    "    df.crossing = df.crossing.map({True: 1, False: 0})\n",
    "    df.give_way = df.give_way.map({True: 1, False: 0})\n",
    "    df.junction = df.junction.map({True: 1, False: 0})\n",
    "    df.no_exit = df.no_exit.map({True: 1, False: 0})\n",
    "    df.railway = df.railway.map({True: 1, False: 0})\n",
    "    df.roundabout = df.roundabout.map({True: 1, False: 0})\n",
    "    df.station = df.station.map({True: 1, False: 0})\n",
    "    df.stop = df.stop.map({True: 1, False: 0})\n",
    "    df.traffic_calming = df.traffic_calming.map({True: 1, False: 0})\n",
    "    df.traffic_signal = df.traffic_signal.map({True: 1, False: 0})\n",
    "    df = df.rename(columns={'distance(mi)':'distance', 'temperature(f)':'temperature', 'wind_chill(f)':'wind_chill', \n",
    "                  'humidity(%)':'humidity', 'pressure(in)':'pressure', 'visibility(mi)':'visibility', \n",
    "                  'wind_speed(mph)':'wind_speed', 'precipitation(in)':'precipitation'})\n",
    "    df = df[df.wind_chill < 120]\n",
    "    df = df[df.wind_speed < 60]\n",
    "    return df\n",
    "    "
   ]
  },
  {
   "cell_type": "code",
   "execution_count": 130,
   "id": "61c3f92c",
   "metadata": {},
   "outputs": [],
   "source": [
    "df2 = wrangle_data()"
   ]
  },
  {
   "cell_type": "code",
   "execution_count": 132,
   "id": "795dfa7a",
   "metadata": {},
   "outputs": [
    {
     "data": {
      "text/plain": [
       "2    2057033\n",
       "3      64580\n",
       "4      62105\n",
       "1      23555\n",
       "Name: severity, dtype: int64"
      ]
     },
     "execution_count": 132,
     "metadata": {},
     "output_type": "execute_result"
    }
   ],
   "source": [
    "df2.severity.value_counts()"
   ]
  },
  {
   "cell_type": "code",
   "execution_count": 138,
   "id": "54ba3e94",
   "metadata": {},
   "outputs": [],
   "source": [
    "sev_two = df2[df2.severity==2].sample(65000, random_state=217)"
   ]
  },
  {
   "cell_type": "code",
   "execution_count": 139,
   "id": "2aa064ea",
   "metadata": {},
   "outputs": [],
   "source": [
    "sev_one = df2[df2.severity==1]"
   ]
  },
  {
   "cell_type": "code",
   "execution_count": 140,
   "id": "0cd5d397",
   "metadata": {},
   "outputs": [],
   "source": [
    "sev_three = df2[df2.severity==3]"
   ]
  },
  {
   "cell_type": "code",
   "execution_count": 141,
   "id": "d9d74c72",
   "metadata": {},
   "outputs": [],
   "source": [
    "sev_four = df2[df2.severity==4]"
   ]
  },
  {
   "cell_type": "code",
   "execution_count": 142,
   "id": "5bf4a5cd",
   "metadata": {},
   "outputs": [],
   "source": [
    "df3 = pd.concat([sev_one, sev_two, sev_three, sev_four])"
   ]
  },
  {
   "cell_type": "code",
   "execution_count": 143,
   "id": "9922435a",
   "metadata": {},
   "outputs": [
    {
     "data": {
      "text/html": [
       "<div>\n",
       "<style scoped>\n",
       "    .dataframe tbody tr th:only-of-type {\n",
       "        vertical-align: middle;\n",
       "    }\n",
       "\n",
       "    .dataframe tbody tr th {\n",
       "        vertical-align: top;\n",
       "    }\n",
       "\n",
       "    .dataframe thead th {\n",
       "        text-align: right;\n",
       "    }\n",
       "</style>\n",
       "<table border=\"1\" class=\"dataframe\">\n",
       "  <thead>\n",
       "    <tr style=\"text-align: right;\">\n",
       "      <th></th>\n",
       "      <th>id</th>\n",
       "      <th>severity</th>\n",
       "      <th>start_time</th>\n",
       "      <th>end_time</th>\n",
       "      <th>start_lat</th>\n",
       "      <th>start_lng</th>\n",
       "      <th>end_lat</th>\n",
       "      <th>end_lng</th>\n",
       "      <th>distance</th>\n",
       "      <th>description</th>\n",
       "      <th>...</th>\n",
       "      <th>railway</th>\n",
       "      <th>roundabout</th>\n",
       "      <th>station</th>\n",
       "      <th>stop</th>\n",
       "      <th>traffic_calming</th>\n",
       "      <th>traffic_signal</th>\n",
       "      <th>sunrise_sunset</th>\n",
       "      <th>civil_twilight</th>\n",
       "      <th>nautical_twilight</th>\n",
       "      <th>astronomical_twilight</th>\n",
       "    </tr>\n",
       "  </thead>\n",
       "  <tbody>\n",
       "    <tr>\n",
       "      <th>1735388</th>\n",
       "      <td>A-1735389</td>\n",
       "      <td>1</td>\n",
       "      <td>2020-08-03 14:35:16</td>\n",
       "      <td>2020-08-03 15:20:16</td>\n",
       "      <td>32.20676</td>\n",
       "      <td>-110.980500</td>\n",
       "      <td>32.20676</td>\n",
       "      <td>-110.980500</td>\n",
       "      <td>0.000</td>\n",
       "      <td>At I-10/Freeway - Accident.</td>\n",
       "      <td>...</td>\n",
       "      <td>0</td>\n",
       "      <td>0</td>\n",
       "      <td>0</td>\n",
       "      <td>1</td>\n",
       "      <td>0</td>\n",
       "      <td>1</td>\n",
       "      <td>0</td>\n",
       "      <td>0</td>\n",
       "      <td>0</td>\n",
       "      <td>0</td>\n",
       "    </tr>\n",
       "    <tr>\n",
       "      <th>1736991</th>\n",
       "      <td>A-1736992</td>\n",
       "      <td>1</td>\n",
       "      <td>2020-09-22 16:44:38</td>\n",
       "      <td>2020-09-22 17:29:38</td>\n",
       "      <td>32.38084</td>\n",
       "      <td>-110.963920</td>\n",
       "      <td>32.38084</td>\n",
       "      <td>-110.963920</td>\n",
       "      <td>0.000</td>\n",
       "      <td>At N 1st Ave - Accident.</td>\n",
       "      <td>...</td>\n",
       "      <td>0</td>\n",
       "      <td>0</td>\n",
       "      <td>0</td>\n",
       "      <td>0</td>\n",
       "      <td>0</td>\n",
       "      <td>1</td>\n",
       "      <td>0</td>\n",
       "      <td>0</td>\n",
       "      <td>0</td>\n",
       "      <td>0</td>\n",
       "    </tr>\n",
       "    <tr>\n",
       "      <th>1749719</th>\n",
       "      <td>A-1749720</td>\n",
       "      <td>1</td>\n",
       "      <td>2020-08-03 15:42:10</td>\n",
       "      <td>2020-08-03 15:57:10</td>\n",
       "      <td>41.37978</td>\n",
       "      <td>-81.994100</td>\n",
       "      <td>41.37978</td>\n",
       "      <td>-81.994100</td>\n",
       "      <td>0.000</td>\n",
       "      <td>At I-80 - Accident.</td>\n",
       "      <td>...</td>\n",
       "      <td>0</td>\n",
       "      <td>0</td>\n",
       "      <td>0</td>\n",
       "      <td>0</td>\n",
       "      <td>0</td>\n",
       "      <td>0</td>\n",
       "      <td>0</td>\n",
       "      <td>0</td>\n",
       "      <td>0</td>\n",
       "      <td>0</td>\n",
       "    </tr>\n",
       "    <tr>\n",
       "      <th>1751859</th>\n",
       "      <td>A-1751860</td>\n",
       "      <td>1</td>\n",
       "      <td>2020-09-22 16:29:33</td>\n",
       "      <td>2020-09-22 17:14:33</td>\n",
       "      <td>33.63950</td>\n",
       "      <td>-112.134360</td>\n",
       "      <td>33.63950</td>\n",
       "      <td>-112.134360</td>\n",
       "      <td>0.000</td>\n",
       "      <td>At N 35th Ave - Accident.</td>\n",
       "      <td>...</td>\n",
       "      <td>0</td>\n",
       "      <td>0</td>\n",
       "      <td>0</td>\n",
       "      <td>0</td>\n",
       "      <td>0</td>\n",
       "      <td>1</td>\n",
       "      <td>0</td>\n",
       "      <td>0</td>\n",
       "      <td>0</td>\n",
       "      <td>0</td>\n",
       "    </tr>\n",
       "    <tr>\n",
       "      <th>1753408</th>\n",
       "      <td>A-1753409</td>\n",
       "      <td>1</td>\n",
       "      <td>2020-08-03 13:41:01</td>\n",
       "      <td>2020-08-03 13:56:01</td>\n",
       "      <td>38.08320</td>\n",
       "      <td>-122.114500</td>\n",
       "      <td>38.08320</td>\n",
       "      <td>-122.114500</td>\n",
       "      <td>0.000</td>\n",
       "      <td>At Lake Herman Rd - Accident. Hard shoulder bl...</td>\n",
       "      <td>...</td>\n",
       "      <td>0</td>\n",
       "      <td>0</td>\n",
       "      <td>0</td>\n",
       "      <td>0</td>\n",
       "      <td>0</td>\n",
       "      <td>0</td>\n",
       "      <td>0</td>\n",
       "      <td>0</td>\n",
       "      <td>0</td>\n",
       "      <td>0</td>\n",
       "    </tr>\n",
       "    <tr>\n",
       "      <th>...</th>\n",
       "      <td>...</td>\n",
       "      <td>...</td>\n",
       "      <td>...</td>\n",
       "      <td>...</td>\n",
       "      <td>...</td>\n",
       "      <td>...</td>\n",
       "      <td>...</td>\n",
       "      <td>...</td>\n",
       "      <td>...</td>\n",
       "      <td>...</td>\n",
       "      <td>...</td>\n",
       "      <td>...</td>\n",
       "      <td>...</td>\n",
       "      <td>...</td>\n",
       "      <td>...</td>\n",
       "      <td>...</td>\n",
       "      <td>...</td>\n",
       "      <td>...</td>\n",
       "      <td>...</td>\n",
       "      <td>...</td>\n",
       "      <td>...</td>\n",
       "    </tr>\n",
       "    <tr>\n",
       "      <th>2845302</th>\n",
       "      <td>A-2845303</td>\n",
       "      <td>4</td>\n",
       "      <td>2019-08-23 17:25:12</td>\n",
       "      <td>2019-08-23 17:54:00</td>\n",
       "      <td>38.99593</td>\n",
       "      <td>-121.672020</td>\n",
       "      <td>39.00317</td>\n",
       "      <td>-121.662679</td>\n",
       "      <td>0.708</td>\n",
       "      <td>Closed between Yuba City and CA-99/Sawtelle Av...</td>\n",
       "      <td>...</td>\n",
       "      <td>0</td>\n",
       "      <td>0</td>\n",
       "      <td>0</td>\n",
       "      <td>0</td>\n",
       "      <td>0</td>\n",
       "      <td>0</td>\n",
       "      <td>0</td>\n",
       "      <td>0</td>\n",
       "      <td>0</td>\n",
       "      <td>0</td>\n",
       "    </tr>\n",
       "    <tr>\n",
       "      <th>2845303</th>\n",
       "      <td>A-2845304</td>\n",
       "      <td>4</td>\n",
       "      <td>2019-08-23 17:25:12</td>\n",
       "      <td>2019-08-23 17:54:00</td>\n",
       "      <td>39.00317</td>\n",
       "      <td>-121.662679</td>\n",
       "      <td>38.99593</td>\n",
       "      <td>-121.672020</td>\n",
       "      <td>0.708</td>\n",
       "      <td>Closed between CA-99/Sawtelle Ave and Yuba Cit...</td>\n",
       "      <td>...</td>\n",
       "      <td>0</td>\n",
       "      <td>0</td>\n",
       "      <td>0</td>\n",
       "      <td>0</td>\n",
       "      <td>0</td>\n",
       "      <td>0</td>\n",
       "      <td>0</td>\n",
       "      <td>0</td>\n",
       "      <td>0</td>\n",
       "      <td>0</td>\n",
       "    </tr>\n",
       "    <tr>\n",
       "      <th>2845314</th>\n",
       "      <td>A-2845315</td>\n",
       "      <td>4</td>\n",
       "      <td>2019-08-23 13:39:48</td>\n",
       "      <td>2019-08-23 14:05:33</td>\n",
       "      <td>33.68599</td>\n",
       "      <td>-117.886260</td>\n",
       "      <td>33.68537</td>\n",
       "      <td>-117.885720</td>\n",
       "      <td>0.053</td>\n",
       "      <td>Ramp closed to Bristol St/Exit 9 - Road closed...</td>\n",
       "      <td>...</td>\n",
       "      <td>0</td>\n",
       "      <td>0</td>\n",
       "      <td>0</td>\n",
       "      <td>0</td>\n",
       "      <td>0</td>\n",
       "      <td>0</td>\n",
       "      <td>0</td>\n",
       "      <td>0</td>\n",
       "      <td>0</td>\n",
       "      <td>0</td>\n",
       "    </tr>\n",
       "    <tr>\n",
       "      <th>2845315</th>\n",
       "      <td>A-2845316</td>\n",
       "      <td>4</td>\n",
       "      <td>2019-08-23 13:39:48</td>\n",
       "      <td>2019-08-23 14:05:33</td>\n",
       "      <td>33.68730</td>\n",
       "      <td>-117.890190</td>\n",
       "      <td>33.68599</td>\n",
       "      <td>-117.886260</td>\n",
       "      <td>0.243</td>\n",
       "      <td>Ramp closed to Bristol St - Road closed due to...</td>\n",
       "      <td>...</td>\n",
       "      <td>0</td>\n",
       "      <td>0</td>\n",
       "      <td>0</td>\n",
       "      <td>0</td>\n",
       "      <td>0</td>\n",
       "      <td>0</td>\n",
       "      <td>0</td>\n",
       "      <td>0</td>\n",
       "      <td>0</td>\n",
       "      <td>0</td>\n",
       "    </tr>\n",
       "    <tr>\n",
       "      <th>2845328</th>\n",
       "      <td>A-2845329</td>\n",
       "      <td>4</td>\n",
       "      <td>2019-08-23 16:51:29</td>\n",
       "      <td>2019-08-23 17:21:02</td>\n",
       "      <td>33.77913</td>\n",
       "      <td>-117.887980</td>\n",
       "      <td>33.77991</td>\n",
       "      <td>-117.890860</td>\n",
       "      <td>0.174</td>\n",
       "      <td>Ramp closed to The City Dr/Exit 14A - Road clo...</td>\n",
       "      <td>...</td>\n",
       "      <td>0</td>\n",
       "      <td>0</td>\n",
       "      <td>0</td>\n",
       "      <td>0</td>\n",
       "      <td>0</td>\n",
       "      <td>0</td>\n",
       "      <td>0</td>\n",
       "      <td>0</td>\n",
       "      <td>0</td>\n",
       "      <td>0</td>\n",
       "    </tr>\n",
       "  </tbody>\n",
       "</table>\n",
       "<p>215240 rows × 43 columns</p>\n",
       "</div>"
      ],
      "text/plain": [
       "                id  severity          start_time            end_time  \\\n",
       "1735388  A-1735389         1 2020-08-03 14:35:16 2020-08-03 15:20:16   \n",
       "1736991  A-1736992         1 2020-09-22 16:44:38 2020-09-22 17:29:38   \n",
       "1749719  A-1749720         1 2020-08-03 15:42:10 2020-08-03 15:57:10   \n",
       "1751859  A-1751860         1 2020-09-22 16:29:33 2020-09-22 17:14:33   \n",
       "1753408  A-1753409         1 2020-08-03 13:41:01 2020-08-03 13:56:01   \n",
       "...            ...       ...                 ...                 ...   \n",
       "2845302  A-2845303         4 2019-08-23 17:25:12 2019-08-23 17:54:00   \n",
       "2845303  A-2845304         4 2019-08-23 17:25:12 2019-08-23 17:54:00   \n",
       "2845314  A-2845315         4 2019-08-23 13:39:48 2019-08-23 14:05:33   \n",
       "2845315  A-2845316         4 2019-08-23 13:39:48 2019-08-23 14:05:33   \n",
       "2845328  A-2845329         4 2019-08-23 16:51:29 2019-08-23 17:21:02   \n",
       "\n",
       "         start_lat   start_lng   end_lat     end_lng  distance  \\\n",
       "1735388   32.20676 -110.980500  32.20676 -110.980500     0.000   \n",
       "1736991   32.38084 -110.963920  32.38084 -110.963920     0.000   \n",
       "1749719   41.37978  -81.994100  41.37978  -81.994100     0.000   \n",
       "1751859   33.63950 -112.134360  33.63950 -112.134360     0.000   \n",
       "1753408   38.08320 -122.114500  38.08320 -122.114500     0.000   \n",
       "...            ...         ...       ...         ...       ...   \n",
       "2845302   38.99593 -121.672020  39.00317 -121.662679     0.708   \n",
       "2845303   39.00317 -121.662679  38.99593 -121.672020     0.708   \n",
       "2845314   33.68599 -117.886260  33.68537 -117.885720     0.053   \n",
       "2845315   33.68730 -117.890190  33.68599 -117.886260     0.243   \n",
       "2845328   33.77913 -117.887980  33.77991 -117.890860     0.174   \n",
       "\n",
       "                                               description  ... railway  \\\n",
       "1735388                        At I-10/Freeway - Accident.  ...       0   \n",
       "1736991                           At N 1st Ave - Accident.  ...       0   \n",
       "1749719                                At I-80 - Accident.  ...       0   \n",
       "1751859                          At N 35th Ave - Accident.  ...       0   \n",
       "1753408  At Lake Herman Rd - Accident. Hard shoulder bl...  ...       0   \n",
       "...                                                    ...  ...     ...   \n",
       "2845302  Closed between Yuba City and CA-99/Sawtelle Av...  ...       0   \n",
       "2845303  Closed between CA-99/Sawtelle Ave and Yuba Cit...  ...       0   \n",
       "2845314  Ramp closed to Bristol St/Exit 9 - Road closed...  ...       0   \n",
       "2845315  Ramp closed to Bristol St - Road closed due to...  ...       0   \n",
       "2845328  Ramp closed to The City Dr/Exit 14A - Road clo...  ...       0   \n",
       "\n",
       "        roundabout station stop traffic_calming traffic_signal sunrise_sunset  \\\n",
       "1735388          0       0    1               0              1              0   \n",
       "1736991          0       0    0               0              1              0   \n",
       "1749719          0       0    0               0              0              0   \n",
       "1751859          0       0    0               0              1              0   \n",
       "1753408          0       0    0               0              0              0   \n",
       "...            ...     ...  ...             ...            ...            ...   \n",
       "2845302          0       0    0               0              0              0   \n",
       "2845303          0       0    0               0              0              0   \n",
       "2845314          0       0    0               0              0              0   \n",
       "2845315          0       0    0               0              0              0   \n",
       "2845328          0       0    0               0              0              0   \n",
       "\n",
       "        civil_twilight  nautical_twilight  astronomical_twilight  \n",
       "1735388              0                  0                      0  \n",
       "1736991              0                  0                      0  \n",
       "1749719              0                  0                      0  \n",
       "1751859              0                  0                      0  \n",
       "1753408              0                  0                      0  \n",
       "...                ...                ...                    ...  \n",
       "2845302              0                  0                      0  \n",
       "2845303              0                  0                      0  \n",
       "2845314              0                  0                      0  \n",
       "2845315              0                  0                      0  \n",
       "2845328              0                  0                      0  \n",
       "\n",
       "[215240 rows x 43 columns]"
      ]
     },
     "execution_count": 143,
     "metadata": {},
     "output_type": "execute_result"
    }
   ],
   "source": [
    "df3"
   ]
  },
  {
   "cell_type": "code",
   "execution_count": 144,
   "id": "69006dac",
   "metadata": {},
   "outputs": [
    {
     "name": "stdout",
     "output_type": "stream",
     "text": [
      "<class 'pandas.core.frame.DataFrame'>\n",
      "Int64Index: 215240 entries, 1735388 to 2845328\n",
      "Data columns (total 43 columns):\n",
      " #   Column                 Non-Null Count   Dtype         \n",
      "---  ------                 --------------   -----         \n",
      " 0   id                     215240 non-null  object        \n",
      " 1   severity               215240 non-null  int64         \n",
      " 2   start_time             215240 non-null  datetime64[ns]\n",
      " 3   end_time               215240 non-null  datetime64[ns]\n",
      " 4   start_lat              215240 non-null  float64       \n",
      " 5   start_lng              215240 non-null  float64       \n",
      " 6   end_lat                215240 non-null  float64       \n",
      " 7   end_lng                215240 non-null  float64       \n",
      " 8   distance               215240 non-null  float64       \n",
      " 9   description            215240 non-null  object        \n",
      " 10  street                 215240 non-null  object        \n",
      " 11  side                   215240 non-null  object        \n",
      " 12  city                   215240 non-null  object        \n",
      " 13  county                 215240 non-null  object        \n",
      " 14  state                  215240 non-null  object        \n",
      " 15  zipcode                215240 non-null  object        \n",
      " 16  timezone               215240 non-null  object        \n",
      " 17  weather_timestamp      215240 non-null  datetime64[ns]\n",
      " 18  temperature            215240 non-null  float64       \n",
      " 19  wind_chill             215240 non-null  float64       \n",
      " 20  humidity               215240 non-null  float64       \n",
      " 21  pressure               215240 non-null  float64       \n",
      " 22  visibility             215240 non-null  float64       \n",
      " 23  wind_direction         215240 non-null  object        \n",
      " 24  wind_speed             215240 non-null  float64       \n",
      " 25  precipitation          215240 non-null  float64       \n",
      " 26  weather_condition      215240 non-null  object        \n",
      " 27  amenity                215240 non-null  int64         \n",
      " 28  bump                   215240 non-null  int64         \n",
      " 29  crossing               215240 non-null  int64         \n",
      " 30  give_way               215240 non-null  int64         \n",
      " 31  junction               215240 non-null  int64         \n",
      " 32  no_exit                215240 non-null  int64         \n",
      " 33  railway                215240 non-null  int64         \n",
      " 34  roundabout             215240 non-null  int64         \n",
      " 35  station                215240 non-null  int64         \n",
      " 36  stop                   215240 non-null  int64         \n",
      " 37  traffic_calming        215240 non-null  int64         \n",
      " 38  traffic_signal         215240 non-null  int64         \n",
      " 39  sunrise_sunset         215240 non-null  int64         \n",
      " 40  civil_twilight         215240 non-null  int64         \n",
      " 41  nautical_twilight      215240 non-null  int64         \n",
      " 42  astronomical_twilight  215240 non-null  int64         \n",
      "dtypes: datetime64[ns](3), float64(12), int64(17), object(11)\n",
      "memory usage: 72.3+ MB\n"
     ]
    }
   ],
   "source": [
    "df3.info()"
   ]
  },
  {
   "cell_type": "code",
   "execution_count": 145,
   "id": "3b2c45cc",
   "metadata": {},
   "outputs": [
    {
     "data": {
      "text/plain": [
       "2    65000\n",
       "3    64580\n",
       "4    62105\n",
       "1    23555\n",
       "Name: severity, dtype: int64"
      ]
     },
     "execution_count": 145,
     "metadata": {},
     "output_type": "execute_result"
    }
   ],
   "source": [
    "df3.severity.value_counts()"
   ]
  },
  {
   "cell_type": "code",
   "execution_count": 147,
   "id": "5a950a19",
   "metadata": {},
   "outputs": [],
   "source": [
    "df3.to_csv('downsample_data.csv', index=False)"
   ]
  },
  {
   "cell_type": "code",
   "execution_count": null,
   "id": "484dc973",
   "metadata": {},
   "outputs": [],
   "source": []
  }
 ],
 "metadata": {
  "kernelspec": {
   "display_name": "Python 3 (ipykernel)",
   "language": "python",
   "name": "python3"
  },
  "language_info": {
   "codemirror_mode": {
    "name": "ipython",
    "version": 3
   },
   "file_extension": ".py",
   "mimetype": "text/x-python",
   "name": "python",
   "nbconvert_exporter": "python",
   "pygments_lexer": "ipython3",
   "version": "3.9.12"
  }
 },
 "nbformat": 4,
 "nbformat_minor": 5
}
